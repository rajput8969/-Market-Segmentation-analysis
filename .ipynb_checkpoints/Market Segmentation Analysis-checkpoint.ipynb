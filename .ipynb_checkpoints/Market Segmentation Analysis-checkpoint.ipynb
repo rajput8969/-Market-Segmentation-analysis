{
 "cells": [
  {
   "cell_type": "markdown",
   "id": "398139d3",
   "metadata": {},
   "source": [
    "# Market Segmentation Analysis for a Fast Food Company"
   ]
  },
  {
   "cell_type": "markdown",
   "id": "717fb4f5",
   "metadata": {},
   "source": [
    "# Project Objective"
   ]
  },
  {
   "cell_type": "markdown",
   "id": "3b077efa",
   "metadata": {},
   "source": [
    "* **Our aim is to figure out if there are different groups of customers who see our brand in different ways.**  \n",
    "* **By identifying these groups and understanding their perspectives, we can tailor our messages to connect with them better, enhancing their relationship with the brand.**"
   ]
  },
  {
   "cell_type": "markdown",
   "id": "c615abc2",
   "metadata": {},
   "source": [
    "# About the company"
   ]
  },
  {
   "cell_type": "markdown",
   "id": "f4737964",
   "metadata": {},
   "source": [
    "**We are working for a fast food company here that recently comducted a survey among its customers.**  \n",
    "  \n",
    "**The survey includes questions like**\n",
    "* **1.  Age**\n",
    "* **2.  Gender**\n",
    "* **3. Visiting Frequency**\n",
    "* **4. Rating on a scale of -5 to +5**\n",
    "* **5. 11 Yes/No questions about how if they find our food tasty, cheap , healthy , etc**"
   ]
  },
  {
   "cell_type": "markdown",
   "id": "d3f97c2c",
   "metadata": {},
   "source": [
    "# Sections"
   ]
  },
  {
   "cell_type": "markdown",
   "id": "2b95631b",
   "metadata": {},
   "source": [
    "1. Libraries and Data Import \n",
    "2. Data Cleaning and preprocessing\n",
    "3. A.Exploratory data analysis (EDA)  \n",
    "   B.Principle Component Analysis (PCA)\n",
    "4. Extracting the segments using K-Means\n",
    "5. Analyzing the segments\n",
    "6. Selecting the segments\n",
    "7. Customizing the marketing mix"
   ]
  },
  {
   "cell_type": "markdown",
   "id": "99050361",
   "metadata": {},
   "source": [
    "## Section 1: Libraries and Data Import"
   ]
  },
  {
   "cell_type": "code",
   "execution_count": 1,
   "id": "eb653083",
   "metadata": {},
   "outputs": [],
   "source": [
    "import pandas as pd\n",
    "import numpy as np\n",
    "import matplotlib.pyplot as plt\n",
    "import seaborn as sns"
   ]
  },
  {
   "cell_type": "markdown",
   "id": "7296effa",
   "metadata": {},
   "source": [
    "Lets import the dataset"
   ]
  },
  {
   "cell_type": "code",
   "execution_count": 2,
   "id": "a15808de",
   "metadata": {},
   "outputs": [],
   "source": [
    "df = pd.read_excel('dataset .xls')"
   ]
  },
  {
   "cell_type": "markdown",
   "id": "2a1a247c",
   "metadata": {},
   "source": [
    "## Section 2: Data cleaning and preprocessing"
   ]
  },
  {
   "cell_type": "code",
   "execution_count": 3,
   "id": "781ce4f0",
   "metadata": {},
   "outputs": [
    {
     "name": "stdout",
     "output_type": "stream",
     "text": [
      "<class 'pandas.core.frame.DataFrame'>\n",
      "RangeIndex: 1453 entries, 0 to 1452\n",
      "Data columns (total 15 columns):\n",
      " #   Column          Non-Null Count  Dtype \n",
      "---  ------          --------------  ----- \n",
      " 0   yummy           1453 non-null   object\n",
      " 1   convenient      1453 non-null   object\n",
      " 2   spicy           1453 non-null   object\n",
      " 3   fattening       1453 non-null   object\n",
      " 4   greasy          1453 non-null   object\n",
      " 5   fast            1453 non-null   object\n",
      " 6   cheap           1453 non-null   object\n",
      " 7   tasty           1453 non-null   object\n",
      " 8   expensive       1453 non-null   object\n",
      " 9   healthy         1453 non-null   object\n",
      " 10  disgusting      1453 non-null   object\n",
      " 11  Like            1453 non-null   object\n",
      " 12  Age             1453 non-null   int64 \n",
      " 13  VisitFrequency  1453 non-null   object\n",
      " 14  Gender          1453 non-null   object\n",
      "dtypes: int64(1), object(14)\n",
      "memory usage: 170.4+ KB\n"
     ]
    }
   ],
   "source": [
    "df.info()"
   ]
  },
  {
   "cell_type": "code",
   "execution_count": 4,
   "id": "56e68639",
   "metadata": {},
   "outputs": [
    {
     "data": {
      "text/html": [
       "<div>\n",
       "<style scoped>\n",
       "    .dataframe tbody tr th:only-of-type {\n",
       "        vertical-align: middle;\n",
       "    }\n",
       "\n",
       "    .dataframe tbody tr th {\n",
       "        vertical-align: top;\n",
       "    }\n",
       "\n",
       "    .dataframe thead th {\n",
       "        text-align: right;\n",
       "    }\n",
       "</style>\n",
       "<table border=\"1\" class=\"dataframe\">\n",
       "  <thead>\n",
       "    <tr style=\"text-align: right;\">\n",
       "      <th></th>\n",
       "      <th>yummy</th>\n",
       "      <th>convenient</th>\n",
       "      <th>spicy</th>\n",
       "      <th>fattening</th>\n",
       "      <th>greasy</th>\n",
       "      <th>fast</th>\n",
       "      <th>cheap</th>\n",
       "      <th>tasty</th>\n",
       "      <th>expensive</th>\n",
       "      <th>healthy</th>\n",
       "      <th>disgusting</th>\n",
       "      <th>Like</th>\n",
       "      <th>Age</th>\n",
       "      <th>VisitFrequency</th>\n",
       "      <th>Gender</th>\n",
       "    </tr>\n",
       "  </thead>\n",
       "  <tbody>\n",
       "    <tr>\n",
       "      <th>0</th>\n",
       "      <td>No</td>\n",
       "      <td>Yes</td>\n",
       "      <td>No</td>\n",
       "      <td>Yes</td>\n",
       "      <td>No</td>\n",
       "      <td>Yes</td>\n",
       "      <td>Yes</td>\n",
       "      <td>No</td>\n",
       "      <td>Yes</td>\n",
       "      <td>No</td>\n",
       "      <td>No</td>\n",
       "      <td>-3</td>\n",
       "      <td>61</td>\n",
       "      <td>Every three months</td>\n",
       "      <td>Female</td>\n",
       "    </tr>\n",
       "    <tr>\n",
       "      <th>1</th>\n",
       "      <td>Yes</td>\n",
       "      <td>Yes</td>\n",
       "      <td>No</td>\n",
       "      <td>Yes</td>\n",
       "      <td>Yes</td>\n",
       "      <td>Yes</td>\n",
       "      <td>Yes</td>\n",
       "      <td>Yes</td>\n",
       "      <td>Yes</td>\n",
       "      <td>No</td>\n",
       "      <td>No</td>\n",
       "      <td>2</td>\n",
       "      <td>51</td>\n",
       "      <td>Every three months</td>\n",
       "      <td>Female</td>\n",
       "    </tr>\n",
       "  </tbody>\n",
       "</table>\n",
       "</div>"
      ],
      "text/plain": [
       "  yummy convenient spicy fattening greasy fast cheap tasty expensive healthy  \\\n",
       "0    No        Yes    No       Yes     No  Yes   Yes    No       Yes      No   \n",
       "1   Yes        Yes    No       Yes    Yes  Yes   Yes   Yes       Yes      No   \n",
       "\n",
       "  disgusting Like  Age      VisitFrequency  Gender  \n",
       "0         No   -3   61  Every three months  Female  \n",
       "1         No    2   51  Every three months  Female  "
      ]
     },
     "execution_count": 4,
     "metadata": {},
     "output_type": "execute_result"
    }
   ],
   "source": [
    "df.head(2)"
   ]
  },
  {
   "cell_type": "markdown",
   "id": "faa8cd98",
   "metadata": {},
   "source": [
    "* As discussed above, we have survey data of 1453 customers , about how they feel about the brand along with their respective gender,age , rating and frequency of visit.\n",
    "* Like the first respondent is a 61 year old female who visits every three months for the convenience but does not find our products to be tasty."
   ]
  },
  {
   "cell_type": "markdown",
   "id": "ac97c829",
   "metadata": {},
   "source": [
    "### Lets see all the unique values in each column"
   ]
  },
  {
   "cell_type": "code",
   "execution_count": 5,
   "id": "db73d9e5",
   "metadata": {},
   "outputs": [],
   "source": [
    "values_table = pd.DataFrame(columns=['Column Name', 'Unique Values'])\n",
    "\n",
    "for column in df.columns:\n",
    "    unique_values = df[column].unique()\n",
    "    values_table = values_table.append({'Column Name': column, 'Unique Values': unique_values}, ignore_index=True)"
   ]
  },
  {
   "cell_type": "code",
   "execution_count": 6,
   "id": "7c1a4103",
   "metadata": {},
   "outputs": [
    {
     "data": {
      "text/html": [
       "<div>\n",
       "<style scoped>\n",
       "    .dataframe tbody tr th:only-of-type {\n",
       "        vertical-align: middle;\n",
       "    }\n",
       "\n",
       "    .dataframe tbody tr th {\n",
       "        vertical-align: top;\n",
       "    }\n",
       "\n",
       "    .dataframe thead th {\n",
       "        text-align: right;\n",
       "    }\n",
       "</style>\n",
       "<table border=\"1\" class=\"dataframe\">\n",
       "  <thead>\n",
       "    <tr style=\"text-align: right;\">\n",
       "      <th></th>\n",
       "      <th>Column Name</th>\n",
       "      <th>Unique Values</th>\n",
       "    </tr>\n",
       "  </thead>\n",
       "  <tbody>\n",
       "    <tr>\n",
       "      <th>0</th>\n",
       "      <td>yummy</td>\n",
       "      <td>[No, Yes]</td>\n",
       "    </tr>\n",
       "    <tr>\n",
       "      <th>1</th>\n",
       "      <td>convenient</td>\n",
       "      <td>[Yes, No]</td>\n",
       "    </tr>\n",
       "    <tr>\n",
       "      <th>2</th>\n",
       "      <td>spicy</td>\n",
       "      <td>[No, Yes]</td>\n",
       "    </tr>\n",
       "    <tr>\n",
       "      <th>3</th>\n",
       "      <td>fattening</td>\n",
       "      <td>[Yes, No]</td>\n",
       "    </tr>\n",
       "    <tr>\n",
       "      <th>4</th>\n",
       "      <td>greasy</td>\n",
       "      <td>[No, Yes]</td>\n",
       "    </tr>\n",
       "    <tr>\n",
       "      <th>5</th>\n",
       "      <td>fast</td>\n",
       "      <td>[Yes, No]</td>\n",
       "    </tr>\n",
       "    <tr>\n",
       "      <th>6</th>\n",
       "      <td>cheap</td>\n",
       "      <td>[Yes, No]</td>\n",
       "    </tr>\n",
       "    <tr>\n",
       "      <th>7</th>\n",
       "      <td>tasty</td>\n",
       "      <td>[No, Yes]</td>\n",
       "    </tr>\n",
       "    <tr>\n",
       "      <th>8</th>\n",
       "      <td>expensive</td>\n",
       "      <td>[Yes, No]</td>\n",
       "    </tr>\n",
       "    <tr>\n",
       "      <th>9</th>\n",
       "      <td>healthy</td>\n",
       "      <td>[No, Yes]</td>\n",
       "    </tr>\n",
       "    <tr>\n",
       "      <th>10</th>\n",
       "      <td>disgusting</td>\n",
       "      <td>[No, Yes]</td>\n",
       "    </tr>\n",
       "    <tr>\n",
       "      <th>11</th>\n",
       "      <td>Like</td>\n",
       "      <td>[-3, 2, 1, 4, I love it!+5, I hate it!-5, -2, 3, 0, -4, -1]</td>\n",
       "    </tr>\n",
       "    <tr>\n",
       "      <th>12</th>\n",
       "      <td>Age</td>\n",
       "      <td>[61, 51, 62, 69, 49, 55, 56, 23, 58, 32, 53, 28, 65, 54, 67, 34, 31, 47, 37, 41, 36, 50, 39, 35, 20, 24, 44, 40, 48, 38, 57, 60, 66, 42, 26, 52, 29, 25, 22, 45, 18, 68, 43, 21, 27, 33, 63, 46, 59, 19, 64, 70, 30, 71]</td>\n",
       "    </tr>\n",
       "    <tr>\n",
       "      <th>13</th>\n",
       "      <td>VisitFrequency</td>\n",
       "      <td>[Every three months, Once a week, Once a month, Once a year, More than once a week, Never]</td>\n",
       "    </tr>\n",
       "    <tr>\n",
       "      <th>14</th>\n",
       "      <td>Gender</td>\n",
       "      <td>[Female, Male]</td>\n",
       "    </tr>\n",
       "  </tbody>\n",
       "</table>\n",
       "</div>"
      ],
      "text/plain": [
       "       Column Name  \\\n",
       "0            yummy   \n",
       "1       convenient   \n",
       "2            spicy   \n",
       "3        fattening   \n",
       "4           greasy   \n",
       "5             fast   \n",
       "6            cheap   \n",
       "7            tasty   \n",
       "8        expensive   \n",
       "9          healthy   \n",
       "10      disgusting   \n",
       "11            Like   \n",
       "12             Age   \n",
       "13  VisitFrequency   \n",
       "14          Gender   \n",
       "\n",
       "                                                                                                                                                                                                               Unique Values  \n",
       "0                                                                                                                                                                                                                  [No, Yes]  \n",
       "1                                                                                                                                                                                                                  [Yes, No]  \n",
       "2                                                                                                                                                                                                                  [No, Yes]  \n",
       "3                                                                                                                                                                                                                  [Yes, No]  \n",
       "4                                                                                                                                                                                                                  [No, Yes]  \n",
       "5                                                                                                                                                                                                                  [Yes, No]  \n",
       "6                                                                                                                                                                                                                  [Yes, No]  \n",
       "7                                                                                                                                                                                                                  [No, Yes]  \n",
       "8                                                                                                                                                                                                                  [Yes, No]  \n",
       "9                                                                                                                                                                                                                  [No, Yes]  \n",
       "10                                                                                                                                                                                                                 [No, Yes]  \n",
       "11                                                                                                                                                               [-3, 2, 1, 4, I love it!+5, I hate it!-5, -2, 3, 0, -4, -1]  \n",
       "12  [61, 51, 62, 69, 49, 55, 56, 23, 58, 32, 53, 28, 65, 54, 67, 34, 31, 47, 37, 41, 36, 50, 39, 35, 20, 24, 44, 40, 48, 38, 57, 60, 66, 42, 26, 52, 29, 25, 22, 45, 18, 68, 43, 21, 27, 33, 63, 46, 59, 19, 64, 70, 30, 71]  \n",
       "13                                                                                                                                [Every three months, Once a week, Once a month, Once a year, More than once a week, Never]  \n",
       "14                                                                                                                                                                                                            [Female, Male]  "
      ]
     },
     "execution_count": 6,
     "metadata": {},
     "output_type": "execute_result"
    }
   ],
   "source": [
    "pd.set_option('display.max_colwidth', None)\n",
    "values_table"
   ]
  },
  {
   "cell_type": "markdown",
   "id": "1530ada1",
   "metadata": {},
   "source": [
    "### Lets get dummy variables for the first eleven columns"
   ]
  },
  {
   "cell_type": "markdown",
   "id": "c75d57fd",
   "metadata": {},
   "source": [
    "The first 11 columns just has \"Yes\" and \"No\" values lets replace them with 1 and 0 respectively"
   ]
  },
  {
   "cell_type": "code",
   "execution_count": 7,
   "id": "a1f6254e",
   "metadata": {},
   "outputs": [],
   "source": [
    "df=pd.get_dummies(df,columns=['yummy','convenient','spicy','fattening','greasy','fast','cheap','tasty','expensive','healthy','disgusting'],drop_first=True)"
   ]
  },
  {
   "cell_type": "code",
   "execution_count": 8,
   "id": "f9f6f567",
   "metadata": {},
   "outputs": [],
   "source": [
    "df.columns=['Like', 'Age', 'VisitFrequency', 'Gender','yummy','convenient','spicy','fattening','greasy','fast','cheap','tasty','expensive','healthy','disgusting']"
   ]
  },
  {
   "cell_type": "code",
   "execution_count": 9,
   "id": "0fb2aee7",
   "metadata": {},
   "outputs": [
    {
     "data": {
      "text/html": [
       "<div>\n",
       "<style scoped>\n",
       "    .dataframe tbody tr th:only-of-type {\n",
       "        vertical-align: middle;\n",
       "    }\n",
       "\n",
       "    .dataframe tbody tr th {\n",
       "        vertical-align: top;\n",
       "    }\n",
       "\n",
       "    .dataframe thead th {\n",
       "        text-align: right;\n",
       "    }\n",
       "</style>\n",
       "<table border=\"1\" class=\"dataframe\">\n",
       "  <thead>\n",
       "    <tr style=\"text-align: right;\">\n",
       "      <th></th>\n",
       "      <th>Like</th>\n",
       "      <th>Age</th>\n",
       "      <th>VisitFrequency</th>\n",
       "      <th>Gender</th>\n",
       "      <th>yummy</th>\n",
       "      <th>convenient</th>\n",
       "      <th>spicy</th>\n",
       "      <th>fattening</th>\n",
       "      <th>greasy</th>\n",
       "      <th>fast</th>\n",
       "      <th>cheap</th>\n",
       "      <th>tasty</th>\n",
       "      <th>expensive</th>\n",
       "      <th>healthy</th>\n",
       "      <th>disgusting</th>\n",
       "    </tr>\n",
       "  </thead>\n",
       "  <tbody>\n",
       "    <tr>\n",
       "      <th>0</th>\n",
       "      <td>-3</td>\n",
       "      <td>61</td>\n",
       "      <td>Every three months</td>\n",
       "      <td>Female</td>\n",
       "      <td>0</td>\n",
       "      <td>1</td>\n",
       "      <td>0</td>\n",
       "      <td>1</td>\n",
       "      <td>0</td>\n",
       "      <td>1</td>\n",
       "      <td>1</td>\n",
       "      <td>0</td>\n",
       "      <td>1</td>\n",
       "      <td>0</td>\n",
       "      <td>0</td>\n",
       "    </tr>\n",
       "    <tr>\n",
       "      <th>1</th>\n",
       "      <td>2</td>\n",
       "      <td>51</td>\n",
       "      <td>Every three months</td>\n",
       "      <td>Female</td>\n",
       "      <td>1</td>\n",
       "      <td>1</td>\n",
       "      <td>0</td>\n",
       "      <td>1</td>\n",
       "      <td>1</td>\n",
       "      <td>1</td>\n",
       "      <td>1</td>\n",
       "      <td>1</td>\n",
       "      <td>1</td>\n",
       "      <td>0</td>\n",
       "      <td>0</td>\n",
       "    </tr>\n",
       "  </tbody>\n",
       "</table>\n",
       "</div>"
      ],
      "text/plain": [
       "  Like  Age      VisitFrequency  Gender  yummy  convenient  spicy  fattening  \\\n",
       "0   -3   61  Every three months  Female      0           1      0          1   \n",
       "1    2   51  Every three months  Female      1           1      0          1   \n",
       "\n",
       "   greasy  fast  cheap  tasty  expensive  healthy  disgusting  \n",
       "0       0     1      1      0          1        0           0  \n",
       "1       1     1      1      1          1        0           0  "
      ]
     },
     "execution_count": 9,
     "metadata": {},
     "output_type": "execute_result"
    }
   ],
   "source": [
    "df.head(2)"
   ]
  },
  {
   "cell_type": "markdown",
   "id": "fabb6aa1",
   "metadata": {},
   "source": [
    "### Now, Lets remove the 'i love it' and 'i hate it' part from the \"Like\" Column"
   ]
  },
  {
   "cell_type": "code",
   "execution_count": 10,
   "id": "e9590288",
   "metadata": {},
   "outputs": [],
   "source": [
    "def slicer(x):\n",
    "    if(len(x)>2):\n",
    "        return x.split('!')[1]\n",
    "    else:\n",
    "        return x"
   ]
  },
  {
   "cell_type": "code",
   "execution_count": 11,
   "id": "d0f2b949",
   "metadata": {},
   "outputs": [],
   "source": [
    "df['Like']=df['Like'].apply(lambda x:str(x))     #Converting values to string so we can check their length\n",
    "df['Like']=df['Like'].apply(lambda x:slicer(x))  #Slicing the values to return only the numeric rating part\n",
    "df['Like']=df['Like'].apply(lambda x:int(x))     # Converting values into int type again"
   ]
  },
  {
   "cell_type": "code",
   "execution_count": 12,
   "id": "55beae33",
   "metadata": {},
   "outputs": [
    {
     "data": {
      "text/plain": [
       "array([-3,  2,  1,  4,  5, -5, -2,  3,  0, -4, -1], dtype=int64)"
      ]
     },
     "execution_count": 12,
     "metadata": {},
     "output_type": "execute_result"
    }
   ],
   "source": [
    "df['Like'].unique()"
   ]
  },
  {
   "cell_type": "code",
   "execution_count": 13,
   "id": "3535d19a",
   "metadata": {},
   "outputs": [
    {
     "data": {
      "text/html": [
       "<div>\n",
       "<style scoped>\n",
       "    .dataframe tbody tr th:only-of-type {\n",
       "        vertical-align: middle;\n",
       "    }\n",
       "\n",
       "    .dataframe tbody tr th {\n",
       "        vertical-align: top;\n",
       "    }\n",
       "\n",
       "    .dataframe thead th {\n",
       "        text-align: right;\n",
       "    }\n",
       "</style>\n",
       "<table border=\"1\" class=\"dataframe\">\n",
       "  <thead>\n",
       "    <tr style=\"text-align: right;\">\n",
       "      <th></th>\n",
       "      <th>Like</th>\n",
       "      <th>Age</th>\n",
       "      <th>VisitFrequency</th>\n",
       "      <th>Gender</th>\n",
       "      <th>yummy</th>\n",
       "      <th>convenient</th>\n",
       "      <th>spicy</th>\n",
       "      <th>fattening</th>\n",
       "      <th>greasy</th>\n",
       "      <th>fast</th>\n",
       "      <th>cheap</th>\n",
       "      <th>tasty</th>\n",
       "      <th>expensive</th>\n",
       "      <th>healthy</th>\n",
       "      <th>disgusting</th>\n",
       "    </tr>\n",
       "  </thead>\n",
       "  <tbody>\n",
       "    <tr>\n",
       "      <th>0</th>\n",
       "      <td>-3</td>\n",
       "      <td>61</td>\n",
       "      <td>Every three months</td>\n",
       "      <td>Female</td>\n",
       "      <td>0</td>\n",
       "      <td>1</td>\n",
       "      <td>0</td>\n",
       "      <td>1</td>\n",
       "      <td>0</td>\n",
       "      <td>1</td>\n",
       "      <td>1</td>\n",
       "      <td>0</td>\n",
       "      <td>1</td>\n",
       "      <td>0</td>\n",
       "      <td>0</td>\n",
       "    </tr>\n",
       "    <tr>\n",
       "      <th>1</th>\n",
       "      <td>2</td>\n",
       "      <td>51</td>\n",
       "      <td>Every three months</td>\n",
       "      <td>Female</td>\n",
       "      <td>1</td>\n",
       "      <td>1</td>\n",
       "      <td>0</td>\n",
       "      <td>1</td>\n",
       "      <td>1</td>\n",
       "      <td>1</td>\n",
       "      <td>1</td>\n",
       "      <td>1</td>\n",
       "      <td>1</td>\n",
       "      <td>0</td>\n",
       "      <td>0</td>\n",
       "    </tr>\n",
       "    <tr>\n",
       "      <th>2</th>\n",
       "      <td>1</td>\n",
       "      <td>62</td>\n",
       "      <td>Every three months</td>\n",
       "      <td>Female</td>\n",
       "      <td>0</td>\n",
       "      <td>1</td>\n",
       "      <td>1</td>\n",
       "      <td>1</td>\n",
       "      <td>1</td>\n",
       "      <td>1</td>\n",
       "      <td>0</td>\n",
       "      <td>1</td>\n",
       "      <td>1</td>\n",
       "      <td>1</td>\n",
       "      <td>0</td>\n",
       "    </tr>\n",
       "    <tr>\n",
       "      <th>3</th>\n",
       "      <td>4</td>\n",
       "      <td>69</td>\n",
       "      <td>Once a week</td>\n",
       "      <td>Female</td>\n",
       "      <td>1</td>\n",
       "      <td>1</td>\n",
       "      <td>0</td>\n",
       "      <td>1</td>\n",
       "      <td>1</td>\n",
       "      <td>1</td>\n",
       "      <td>1</td>\n",
       "      <td>1</td>\n",
       "      <td>0</td>\n",
       "      <td>0</td>\n",
       "      <td>1</td>\n",
       "    </tr>\n",
       "    <tr>\n",
       "      <th>4</th>\n",
       "      <td>2</td>\n",
       "      <td>49</td>\n",
       "      <td>Once a month</td>\n",
       "      <td>Male</td>\n",
       "      <td>0</td>\n",
       "      <td>1</td>\n",
       "      <td>0</td>\n",
       "      <td>1</td>\n",
       "      <td>1</td>\n",
       "      <td>1</td>\n",
       "      <td>1</td>\n",
       "      <td>0</td>\n",
       "      <td>0</td>\n",
       "      <td>1</td>\n",
       "      <td>0</td>\n",
       "    </tr>\n",
       "  </tbody>\n",
       "</table>\n",
       "</div>"
      ],
      "text/plain": [
       "   Like  Age      VisitFrequency  Gender  yummy  convenient  spicy  fattening  \\\n",
       "0    -3   61  Every three months  Female      0           1      0          1   \n",
       "1     2   51  Every three months  Female      1           1      0          1   \n",
       "2     1   62  Every three months  Female      0           1      1          1   \n",
       "3     4   69         Once a week  Female      1           1      0          1   \n",
       "4     2   49        Once a month    Male      0           1      0          1   \n",
       "\n",
       "   greasy  fast  cheap  tasty  expensive  healthy  disgusting  \n",
       "0       0     1      1      0          1        0           0  \n",
       "1       1     1      1      1          1        0           0  \n",
       "2       1     1      0      1          1        1           0  \n",
       "3       1     1      1      1          0        0           1  \n",
       "4       1     1      1      0          0        1           0  "
      ]
     },
     "execution_count": 13,
     "metadata": {},
     "output_type": "execute_result"
    }
   ],
   "source": [
    "df.head()"
   ]
  },
  {
   "cell_type": "markdown",
   "id": "58d7c612",
   "metadata": {},
   "source": [
    "The data looks good now , lets move to EDA"
   ]
  },
  {
   "cell_type": "markdown",
   "id": "56845f6a",
   "metadata": {},
   "source": [
    "## Section 3-A: Exploratory data analysis (EDA)"
   ]
  },
  {
   "cell_type": "code",
   "execution_count": 14,
   "id": "f7681e49",
   "metadata": {},
   "outputs": [
    {
     "data": {
      "text/html": [
       "<div>\n",
       "<style scoped>\n",
       "    .dataframe tbody tr th:only-of-type {\n",
       "        vertical-align: middle;\n",
       "    }\n",
       "\n",
       "    .dataframe tbody tr th {\n",
       "        vertical-align: top;\n",
       "    }\n",
       "\n",
       "    .dataframe thead th {\n",
       "        text-align: right;\n",
       "    }\n",
       "</style>\n",
       "<table border=\"1\" class=\"dataframe\">\n",
       "  <thead>\n",
       "    <tr style=\"text-align: right;\">\n",
       "      <th></th>\n",
       "      <th>Like</th>\n",
       "      <th>Age</th>\n",
       "      <th>yummy</th>\n",
       "      <th>convenient</th>\n",
       "      <th>spicy</th>\n",
       "      <th>fattening</th>\n",
       "      <th>greasy</th>\n",
       "      <th>fast</th>\n",
       "      <th>cheap</th>\n",
       "      <th>tasty</th>\n",
       "      <th>expensive</th>\n",
       "      <th>healthy</th>\n",
       "      <th>disgusting</th>\n",
       "    </tr>\n",
       "  </thead>\n",
       "  <tbody>\n",
       "    <tr>\n",
       "      <th>count</th>\n",
       "      <td>1453.000000</td>\n",
       "      <td>1453.000000</td>\n",
       "      <td>1453.000000</td>\n",
       "      <td>1453.000000</td>\n",
       "      <td>1453.000000</td>\n",
       "      <td>1453.000000</td>\n",
       "      <td>1453.000000</td>\n",
       "      <td>1453.000000</td>\n",
       "      <td>1453.000000</td>\n",
       "      <td>1453.000000</td>\n",
       "      <td>1453.000000</td>\n",
       "      <td>1453.000000</td>\n",
       "      <td>1453.000000</td>\n",
       "    </tr>\n",
       "    <tr>\n",
       "      <th>mean</th>\n",
       "      <td>0.777013</td>\n",
       "      <td>44.604955</td>\n",
       "      <td>0.552650</td>\n",
       "      <td>0.907777</td>\n",
       "      <td>0.093599</td>\n",
       "      <td>0.867171</td>\n",
       "      <td>0.526497</td>\n",
       "      <td>0.900206</td>\n",
       "      <td>0.598761</td>\n",
       "      <td>0.644184</td>\n",
       "      <td>0.357880</td>\n",
       "      <td>0.198899</td>\n",
       "      <td>0.242946</td>\n",
       "    </tr>\n",
       "    <tr>\n",
       "      <th>std</th>\n",
       "      <td>3.116842</td>\n",
       "      <td>14.221178</td>\n",
       "      <td>0.497391</td>\n",
       "      <td>0.289440</td>\n",
       "      <td>0.291371</td>\n",
       "      <td>0.339506</td>\n",
       "      <td>0.499469</td>\n",
       "      <td>0.299828</td>\n",
       "      <td>0.490318</td>\n",
       "      <td>0.478925</td>\n",
       "      <td>0.479542</td>\n",
       "      <td>0.399309</td>\n",
       "      <td>0.429010</td>\n",
       "    </tr>\n",
       "    <tr>\n",
       "      <th>min</th>\n",
       "      <td>-5.000000</td>\n",
       "      <td>18.000000</td>\n",
       "      <td>0.000000</td>\n",
       "      <td>0.000000</td>\n",
       "      <td>0.000000</td>\n",
       "      <td>0.000000</td>\n",
       "      <td>0.000000</td>\n",
       "      <td>0.000000</td>\n",
       "      <td>0.000000</td>\n",
       "      <td>0.000000</td>\n",
       "      <td>0.000000</td>\n",
       "      <td>0.000000</td>\n",
       "      <td>0.000000</td>\n",
       "    </tr>\n",
       "    <tr>\n",
       "      <th>25%</th>\n",
       "      <td>-1.000000</td>\n",
       "      <td>33.000000</td>\n",
       "      <td>0.000000</td>\n",
       "      <td>1.000000</td>\n",
       "      <td>0.000000</td>\n",
       "      <td>1.000000</td>\n",
       "      <td>0.000000</td>\n",
       "      <td>1.000000</td>\n",
       "      <td>0.000000</td>\n",
       "      <td>0.000000</td>\n",
       "      <td>0.000000</td>\n",
       "      <td>0.000000</td>\n",
       "      <td>0.000000</td>\n",
       "    </tr>\n",
       "    <tr>\n",
       "      <th>50%</th>\n",
       "      <td>1.000000</td>\n",
       "      <td>45.000000</td>\n",
       "      <td>1.000000</td>\n",
       "      <td>1.000000</td>\n",
       "      <td>0.000000</td>\n",
       "      <td>1.000000</td>\n",
       "      <td>1.000000</td>\n",
       "      <td>1.000000</td>\n",
       "      <td>1.000000</td>\n",
       "      <td>1.000000</td>\n",
       "      <td>0.000000</td>\n",
       "      <td>0.000000</td>\n",
       "      <td>0.000000</td>\n",
       "    </tr>\n",
       "    <tr>\n",
       "      <th>75%</th>\n",
       "      <td>3.000000</td>\n",
       "      <td>57.000000</td>\n",
       "      <td>1.000000</td>\n",
       "      <td>1.000000</td>\n",
       "      <td>0.000000</td>\n",
       "      <td>1.000000</td>\n",
       "      <td>1.000000</td>\n",
       "      <td>1.000000</td>\n",
       "      <td>1.000000</td>\n",
       "      <td>1.000000</td>\n",
       "      <td>1.000000</td>\n",
       "      <td>0.000000</td>\n",
       "      <td>0.000000</td>\n",
       "    </tr>\n",
       "    <tr>\n",
       "      <th>max</th>\n",
       "      <td>5.000000</td>\n",
       "      <td>71.000000</td>\n",
       "      <td>1.000000</td>\n",
       "      <td>1.000000</td>\n",
       "      <td>1.000000</td>\n",
       "      <td>1.000000</td>\n",
       "      <td>1.000000</td>\n",
       "      <td>1.000000</td>\n",
       "      <td>1.000000</td>\n",
       "      <td>1.000000</td>\n",
       "      <td>1.000000</td>\n",
       "      <td>1.000000</td>\n",
       "      <td>1.000000</td>\n",
       "    </tr>\n",
       "  </tbody>\n",
       "</table>\n",
       "</div>"
      ],
      "text/plain": [
       "              Like          Age        yummy   convenient        spicy  \\\n",
       "count  1453.000000  1453.000000  1453.000000  1453.000000  1453.000000   \n",
       "mean      0.777013    44.604955     0.552650     0.907777     0.093599   \n",
       "std       3.116842    14.221178     0.497391     0.289440     0.291371   \n",
       "min      -5.000000    18.000000     0.000000     0.000000     0.000000   \n",
       "25%      -1.000000    33.000000     0.000000     1.000000     0.000000   \n",
       "50%       1.000000    45.000000     1.000000     1.000000     0.000000   \n",
       "75%       3.000000    57.000000     1.000000     1.000000     0.000000   \n",
       "max       5.000000    71.000000     1.000000     1.000000     1.000000   \n",
       "\n",
       "         fattening       greasy         fast        cheap        tasty  \\\n",
       "count  1453.000000  1453.000000  1453.000000  1453.000000  1453.000000   \n",
       "mean      0.867171     0.526497     0.900206     0.598761     0.644184   \n",
       "std       0.339506     0.499469     0.299828     0.490318     0.478925   \n",
       "min       0.000000     0.000000     0.000000     0.000000     0.000000   \n",
       "25%       1.000000     0.000000     1.000000     0.000000     0.000000   \n",
       "50%       1.000000     1.000000     1.000000     1.000000     1.000000   \n",
       "75%       1.000000     1.000000     1.000000     1.000000     1.000000   \n",
       "max       1.000000     1.000000     1.000000     1.000000     1.000000   \n",
       "\n",
       "         expensive      healthy   disgusting  \n",
       "count  1453.000000  1453.000000  1453.000000  \n",
       "mean      0.357880     0.198899     0.242946  \n",
       "std       0.479542     0.399309     0.429010  \n",
       "min       0.000000     0.000000     0.000000  \n",
       "25%       0.000000     0.000000     0.000000  \n",
       "50%       0.000000     0.000000     0.000000  \n",
       "75%       1.000000     0.000000     0.000000  \n",
       "max       1.000000     1.000000     1.000000  "
      ]
     },
     "execution_count": 14,
     "metadata": {},
     "output_type": "execute_result"
    }
   ],
   "source": [
    "df.describe()"
   ]
  },
  {
   "cell_type": "markdown",
   "id": "9cd46d0b",
   "metadata": {},
   "source": [
    "### Lets plot the mean of the 11 features , to get an idea of the general perception people have."
   ]
  },
  {
   "cell_type": "code",
   "execution_count": 15,
   "id": "97862ce9",
   "metadata": {},
   "outputs": [
    {
     "data": {
      "text/html": [
       "<div>\n",
       "<style scoped>\n",
       "    .dataframe tbody tr th:only-of-type {\n",
       "        vertical-align: middle;\n",
       "    }\n",
       "\n",
       "    .dataframe tbody tr th {\n",
       "        vertical-align: top;\n",
       "    }\n",
       "\n",
       "    .dataframe thead th {\n",
       "        text-align: right;\n",
       "    }\n",
       "</style>\n",
       "<table border=\"1\" class=\"dataframe\">\n",
       "  <thead>\n",
       "    <tr style=\"text-align: right;\">\n",
       "      <th></th>\n",
       "      <th>mean</th>\n",
       "    </tr>\n",
       "  </thead>\n",
       "  <tbody>\n",
       "    <tr>\n",
       "      <th>yummy</th>\n",
       "      <td>0.55</td>\n",
       "    </tr>\n",
       "    <tr>\n",
       "      <th>convenient</th>\n",
       "      <td>0.91</td>\n",
       "    </tr>\n",
       "    <tr>\n",
       "      <th>spicy</th>\n",
       "      <td>0.09</td>\n",
       "    </tr>\n",
       "    <tr>\n",
       "      <th>fattening</th>\n",
       "      <td>0.87</td>\n",
       "    </tr>\n",
       "    <tr>\n",
       "      <th>greasy</th>\n",
       "      <td>0.53</td>\n",
       "    </tr>\n",
       "    <tr>\n",
       "      <th>fast</th>\n",
       "      <td>0.90</td>\n",
       "    </tr>\n",
       "    <tr>\n",
       "      <th>cheap</th>\n",
       "      <td>0.60</td>\n",
       "    </tr>\n",
       "    <tr>\n",
       "      <th>tasty</th>\n",
       "      <td>0.64</td>\n",
       "    </tr>\n",
       "    <tr>\n",
       "      <th>expensive</th>\n",
       "      <td>0.36</td>\n",
       "    </tr>\n",
       "    <tr>\n",
       "      <th>healthy</th>\n",
       "      <td>0.20</td>\n",
       "    </tr>\n",
       "    <tr>\n",
       "      <th>disgusting</th>\n",
       "      <td>0.24</td>\n",
       "    </tr>\n",
       "  </tbody>\n",
       "</table>\n",
       "</div>"
      ],
      "text/plain": [
       "            mean\n",
       "yummy       0.55\n",
       "convenient  0.91\n",
       "spicy       0.09\n",
       "fattening   0.87\n",
       "greasy      0.53\n",
       "fast        0.90\n",
       "cheap       0.60\n",
       "tasty       0.64\n",
       "expensive   0.36\n",
       "healthy     0.20\n",
       "disgusting  0.24"
      ]
     },
     "execution_count": 15,
     "metadata": {},
     "output_type": "execute_result"
    }
   ],
   "source": [
    "df_temp=pd.DataFrame(df.describe().loc['mean'].round(2)[2:13])\n",
    "df_temp"
   ]
  },
  {
   "cell_type": "code",
   "execution_count": 17,
   "id": "3b6b8222",
   "metadata": {},
   "outputs": [
    {
     "data": {
      "image/png": "[encoded data removed]",
      "text/plain": [
       "<Figure size 720x432 with 1 Axes>"
      ]
     },
     "metadata": {
      "needs_background": "light"
     },
     "output_type": "display_data"
    }
   ],
   "source": [
    "plt.figure(figsize=(10,6))\n",
    "\n",
    "ax=sns.barplot(x=df.columns[4:],y=df_temp['mean'])\n",
    "ax.set_xlabel(\"Attributes\")\n",
    "ax.set_ylabel(\"Mean\")\n",
    "for i in ax.containers:\n",
    "    ax.bar_label(i,)"
   ]
  },
  {
   "cell_type": "markdown",
   "id": "2129c272",
   "metadata": {},
   "source": [
    "* **The data indicates that about half of the respondents (55%) perceive our food as YUMMY**\n",
    "* **91% believe it is CONVENIENT**\n",
    "* **Only 9% think food is SPICY**\n",
    "* **24 % find it disgusting**"
   ]
  },
  {
   "cell_type": "markdown",
   "id": "20230c09",
   "metadata": {},
   "source": [
    "### Gender distribution of the customers"
   ]
  },
  {
   "cell_type": "code",
   "execution_count": 18,
   "id": "bf593836",
   "metadata": {},
   "outputs": [
    {
     "data": {
      "text/plain": [
       "Gender\n",
       "Female    788\n",
       "Male      665\n",
       "Name: Like, dtype: int64"
      ]
     },
     "execution_count": 18,
     "metadata": {},
     "output_type": "execute_result"
    }
   ],
   "source": [
    "gender_distribution = df.groupby('Gender')['Like'].count()\n",
    "gender_distribution"
   ]
  },
  {
   "cell_type": "code",
   "execution_count": 19,
   "id": "dd67b5f8",
   "metadata": {},
   "outputs": [
    {
     "data": {
      "image/png": "[encoded data removed]",
      "text/plain": [
       "<Figure size 432x432 with 1 Axes>"
      ]
     },
     "metadata": {},
     "output_type": "display_data"
    }
   ],
   "source": [
    "labels = gender_distribution.index\n",
    "sizes = gender_distribution.values\n",
    "\n",
    "plt.figure(figsize=(6, 6))  \n",
    "plt.pie(sizes, labels=labels, autopct='%1.1f%%', startangle=90)\n",
    "plt.axis('equal') \n",
    "\n",
    "plt.show()\n"
   ]
  },
  {
   "cell_type": "markdown",
   "id": "baaa54e6",
   "metadata": {},
   "source": [
    "* **Around 54.2% of our customers are female**"
   ]
  },
  {
   "cell_type": "markdown",
   "id": "86181826",
   "metadata": {},
   "source": [
    "### Age Distribution of customers"
   ]
  },
  {
   "cell_type": "code",
   "execution_count": 20,
   "id": "051883d2",
   "metadata": {},
   "outputs": [
    {
     "name": "stderr",
     "output_type": "stream",
     "text": [
      "C:\\Users\\91938\\anaconda3\\lib\\site-packages\\seaborn\\distributions.py:2619: FutureWarning: `distplot` is a deprecated function and will be removed in a future version. Please adapt your code to use either `displot` (a figure-level function with similar flexibility) or `histplot` (an axes-level function for histograms).\n",
      "  warnings.warn(msg, FutureWarning)\n"
     ]
    },
    {
     "data": {
      "image/png": "[encoded data removed]",
      "text/plain": [
       "<Figure size 432x288 with 1 Axes>"
      ]
     },
     "metadata": {
      "needs_background": "light"
     },
     "output_type": "display_data"
    }
   ],
   "source": [
    "sns.distplot(df['Age'], bins=20, color='skyblue', hist_kws={\"edgecolor\": \"black\"})\n",
    "plt.title(\"Distribution of Age\")\n",
    "plt.show()\n"
   ]
  },
  {
   "cell_type": "markdown",
   "id": "0c9355df",
   "metadata": {},
   "source": [
    "* **The age distribution is alomost uniform but we have more people in the 50-60 age group**"
   ]
  },
  {
   "cell_type": "markdown",
   "id": "1e9b0c4c",
   "metadata": {},
   "source": [
    "### Distribution of ratings "
   ]
  },
  {
   "cell_type": "code",
   "execution_count": 23,
   "id": "4b7b4309",
   "metadata": {},
   "outputs": [
    {
     "data": {
      "image/png": "[encoded data removed]",
      "text/plain": [
       "<Figure size 720x432 with 1 Axes>"
      ]
     },
     "metadata": {
      "needs_background": "light"
     },
     "output_type": "display_data"
    }
   ],
   "source": [
    "plt.figure(figsize=(10,6))\n",
    "ax=sns.countplot(x='Like',data=df)\n",
    "for i in ax.containers:\n",
    "    ax.bar_label(i,)\n",
    "plt.show()"
   ]
  },
  {
   "cell_type": "markdown",
   "id": "0466edbb",
   "metadata": {},
   "source": [
    "* **More People have a positive perception of our brand, evident from the fact that more people have given us in the higher ratings than a lower rating**"
   ]
  },
  {
   "cell_type": "markdown",
   "id": "aa30d1db",
   "metadata": {},
   "source": [
    "### Rating distribution amoung different age groups and gender."
   ]
  },
  {
   "cell_type": "code",
   "execution_count": 24,
   "id": "9d5876dc",
   "metadata": {},
   "outputs": [
    {
     "data": {
      "text/plain": [
       "<AxesSubplot:xlabel='Like', ylabel='Age'>"
      ]
     },
     "execution_count": 24,
     "metadata": {},
     "output_type": "execute_result"
    },
    {
     "data": {
      "image/png": "[encoded data removed]",
      "text/plain": [
       "<Figure size 720x432 with 1 Axes>"
      ]
     },
     "metadata": {
      "needs_background": "light"
     },
     "output_type": "display_data"
    }
   ],
   "source": [
    "plt.figure(figsize=(10,6))\n",
    "sns.boxplot(x=\"Like\", y=\"Age\",data=df,)"
   ]
  },
  {
   "cell_type": "markdown",
   "id": "ca8a7129",
   "metadata": {},
   "source": [
    "* **Young people tend to like our brand more,the company can focus on young population. Also, we need to add more options to win old people.**"
   ]
  },
  {
   "cell_type": "code",
   "execution_count": 25,
   "id": "0b5c69d3",
   "metadata": {},
   "outputs": [
    {
     "data": {
      "text/plain": [
       "<AxesSubplot:xlabel='Like', ylabel='Gender'>"
      ]
     },
     "execution_count": 25,
     "metadata": {},
     "output_type": "execute_result"
    },
    {
     "data": {
      "image/png": "[encoded data removed]",
      "text/plain": [
       "<Figure size 720x432 with 1 Axes>"
      ]
     },
     "metadata": {
      "needs_background": "light"
     },
     "output_type": "display_data"
    }
   ],
   "source": [
    "plt.figure(figsize=(10,6))\n",
    "sns.boxplot(x=\"Like\", y=\"Gender\",data=df)"
   ]
  },
  {
   "cell_type": "markdown",
   "id": "ac4882d7",
   "metadata": {},
   "source": [
    "* **It looks like females have a more positive perception about us. This also explains why the survey respondents who were essentially our customers were more women.**"
   ]
  },
  {
   "cell_type": "markdown",
   "id": "98217da8",
   "metadata": {},
   "source": [
    "## Section 3-B : PCA"
   ]
  },
  {
   "cell_type": "markdown",
   "id": "fcf7eebd",
   "metadata": {},
   "source": [
    "### Lets store the 11 features in a separate dataframe"
   ]
  },
  {
   "cell_type": "code",
   "execution_count": 26,
   "id": "a2efd3c8",
   "metadata": {},
   "outputs": [],
   "source": [
    "df_criteria=df[['yummy', 'convenient',\n",
    "       'spicy', 'fattening', 'greasy', 'fast', 'cheap', 'tasty', 'expensive',\n",
    "       'healthy', 'disgusting']]"
   ]
  },
  {
   "cell_type": "code",
   "execution_count": 27,
   "id": "16c5678e",
   "metadata": {},
   "outputs": [
    {
     "data": {
      "text/html": [
       "<div>\n",
       "<style scoped>\n",
       "    .dataframe tbody tr th:only-of-type {\n",
       "        vertical-align: middle;\n",
       "    }\n",
       "\n",
       "    .dataframe tbody tr th {\n",
       "        vertical-align: top;\n",
       "    }\n",
       "\n",
       "    .dataframe thead th {\n",
       "        text-align: right;\n",
       "    }\n",
       "</style>\n",
       "<table border=\"1\" class=\"dataframe\">\n",
       "  <thead>\n",
       "    <tr style=\"text-align: right;\">\n",
       "      <th></th>\n",
       "      <th>yummy</th>\n",
       "      <th>convenient</th>\n",
       "      <th>spicy</th>\n",
       "      <th>fattening</th>\n",
       "      <th>greasy</th>\n",
       "      <th>fast</th>\n",
       "      <th>cheap</th>\n",
       "      <th>tasty</th>\n",
       "      <th>expensive</th>\n",
       "      <th>healthy</th>\n",
       "      <th>disgusting</th>\n",
       "    </tr>\n",
       "  </thead>\n",
       "  <tbody>\n",
       "    <tr>\n",
       "      <th>0</th>\n",
       "      <td>0</td>\n",
       "      <td>1</td>\n",
       "      <td>0</td>\n",
       "      <td>1</td>\n",
       "      <td>0</td>\n",
       "      <td>1</td>\n",
       "      <td>1</td>\n",
       "      <td>0</td>\n",
       "      <td>1</td>\n",
       "      <td>0</td>\n",
       "      <td>0</td>\n",
       "    </tr>\n",
       "    <tr>\n",
       "      <th>1</th>\n",
       "      <td>1</td>\n",
       "      <td>1</td>\n",
       "      <td>0</td>\n",
       "      <td>1</td>\n",
       "      <td>1</td>\n",
       "      <td>1</td>\n",
       "      <td>1</td>\n",
       "      <td>1</td>\n",
       "      <td>1</td>\n",
       "      <td>0</td>\n",
       "      <td>0</td>\n",
       "    </tr>\n",
       "  </tbody>\n",
       "</table>\n",
       "</div>"
      ],
      "text/plain": [
       "   yummy  convenient  spicy  fattening  greasy  fast  cheap  tasty  expensive  \\\n",
       "0      0           1      0          1       0     1      1      0          1   \n",
       "1      1           1      0          1       1     1      1      1          1   \n",
       "\n",
       "   healthy  disgusting  \n",
       "0        0           0  \n",
       "1        0           0  "
      ]
     },
     "execution_count": 27,
     "metadata": {},
     "output_type": "execute_result"
    }
   ],
   "source": [
    "df_criteria.head(2)"
   ]
  },
  {
   "cell_type": "code",
   "execution_count": 28,
   "id": "d8e3b600",
   "metadata": {},
   "outputs": [],
   "source": [
    "from sklearn.decomposition import PCA\n",
    "pca = PCA()"
   ]
  },
  {
   "cell_type": "code",
   "execution_count": 29,
   "id": "f0b629ed",
   "metadata": {},
   "outputs": [],
   "source": [
    "x_pca=pca.fit_transform(df_criteria)"
   ]
  },
  {
   "cell_type": "code",
   "execution_count": 30,
   "id": "e1eb18b4",
   "metadata": {},
   "outputs": [
    {
     "data": {
      "text/plain": [
       "array([29.94472319, 19.27972137, 13.30453519,  8.30957781,  5.94805227,\n",
       "        5.02995614,  4.38490997,  3.95477912,  3.67608973,  3.23532907,\n",
       "        2.93232614])"
      ]
     },
     "execution_count": 30,
     "metadata": {},
     "output_type": "execute_result"
    }
   ],
   "source": [
    "pca.explained_variance_ratio_*100"
   ]
  },
  {
   "cell_type": "markdown",
   "id": "a0e6c19a",
   "metadata": {},
   "source": [
    "#### The first and second principle components captures around 50% information."
   ]
  },
  {
   "cell_type": "markdown",
   "id": "5b3df053",
   "metadata": {},
   "source": [
    "### Lets get our 1452 data points in terms of these 11 principle components into a dataframe"
   ]
  },
  {
   "cell_type": "code",
   "execution_count": 32,
   "id": "e5ddad05",
   "metadata": {},
   "outputs": [
    {
     "data": {
      "text/plain": [
       "(1453, 11)"
      ]
     },
     "execution_count": 32,
     "metadata": {},
     "output_type": "execute_result"
    }
   ],
   "source": [
    "x_pca.shape   #Just a Check"
   ]
  },
  {
   "cell_type": "code",
   "execution_count": 33,
   "id": "a2dab20a",
   "metadata": {},
   "outputs": [
    {
     "data": {
      "text/html": [
       "<div>\n",
       "<style scoped>\n",
       "    .dataframe tbody tr th:only-of-type {\n",
       "        vertical-align: middle;\n",
       "    }\n",
       "\n",
       "    .dataframe tbody tr th {\n",
       "        vertical-align: top;\n",
       "    }\n",
       "\n",
       "    .dataframe thead th {\n",
       "        text-align: right;\n",
       "    }\n",
       "</style>\n",
       "<table border=\"1\" class=\"dataframe\">\n",
       "  <thead>\n",
       "    <tr style=\"text-align: right;\">\n",
       "      <th></th>\n",
       "      <th>PC1</th>\n",
       "      <th>PC2</th>\n",
       "      <th>PC3</th>\n",
       "      <th>PC4</th>\n",
       "      <th>PC5</th>\n",
       "      <th>PC6</th>\n",
       "      <th>PC7</th>\n",
       "      <th>PC8</th>\n",
       "      <th>PC9</th>\n",
       "      <th>PC10</th>\n",
       "      <th>PC11</th>\n",
       "    </tr>\n",
       "  </thead>\n",
       "  <tbody>\n",
       "    <tr>\n",
       "      <th>0</th>\n",
       "      <td>0.425367</td>\n",
       "      <td>-0.219079</td>\n",
       "      <td>0.663255</td>\n",
       "      <td>-0.401300</td>\n",
       "      <td>0.201705</td>\n",
       "      <td>-0.389767</td>\n",
       "      <td>-0.211982</td>\n",
       "      <td>0.163235</td>\n",
       "      <td>0.181007</td>\n",
       "      <td>0.515706</td>\n",
       "      <td>-0.567074</td>\n",
       "    </tr>\n",
       "    <tr>\n",
       "      <th>1</th>\n",
       "      <td>-0.218638</td>\n",
       "      <td>0.388190</td>\n",
       "      <td>-0.730827</td>\n",
       "      <td>-0.094724</td>\n",
       "      <td>0.044669</td>\n",
       "      <td>-0.086596</td>\n",
       "      <td>-0.095877</td>\n",
       "      <td>-0.034756</td>\n",
       "      <td>0.111476</td>\n",
       "      <td>0.493313</td>\n",
       "      <td>-0.500440</td>\n",
       "    </tr>\n",
       "    <tr>\n",
       "      <th>2</th>\n",
       "      <td>0.375415</td>\n",
       "      <td>0.730435</td>\n",
       "      <td>-0.122040</td>\n",
       "      <td>0.692262</td>\n",
       "      <td>0.839643</td>\n",
       "      <td>-0.687406</td>\n",
       "      <td>0.583112</td>\n",
       "      <td>0.364379</td>\n",
       "      <td>-0.322288</td>\n",
       "      <td>0.061759</td>\n",
       "      <td>0.242741</td>\n",
       "    </tr>\n",
       "    <tr>\n",
       "      <th>3</th>\n",
       "      <td>-0.172926</td>\n",
       "      <td>-0.352752</td>\n",
       "      <td>-0.843795</td>\n",
       "      <td>0.206998</td>\n",
       "      <td>-0.681415</td>\n",
       "      <td>-0.036133</td>\n",
       "      <td>-0.054284</td>\n",
       "      <td>-0.231477</td>\n",
       "      <td>-0.028003</td>\n",
       "      <td>-0.250678</td>\n",
       "      <td>-0.051034</td>\n",
       "    </tr>\n",
       "    <tr>\n",
       "      <th>4</th>\n",
       "      <td>0.187057</td>\n",
       "      <td>-0.807610</td>\n",
       "      <td>0.028537</td>\n",
       "      <td>0.548332</td>\n",
       "      <td>0.854074</td>\n",
       "      <td>-0.097305</td>\n",
       "      <td>-0.457043</td>\n",
       "      <td>0.171758</td>\n",
       "      <td>-0.074409</td>\n",
       "      <td>0.031897</td>\n",
       "      <td>0.082245</td>\n",
       "    </tr>\n",
       "    <tr>\n",
       "      <th>...</th>\n",
       "      <td>...</td>\n",
       "      <td>...</td>\n",
       "      <td>...</td>\n",
       "      <td>...</td>\n",
       "      <td>...</td>\n",
       "      <td>...</td>\n",
       "      <td>...</td>\n",
       "      <td>...</td>\n",
       "      <td>...</td>\n",
       "      <td>...</td>\n",
       "      <td>...</td>\n",
       "    </tr>\n",
       "    <tr>\n",
       "      <th>1448</th>\n",
       "      <td>1.550242</td>\n",
       "      <td>0.275031</td>\n",
       "      <td>-0.013737</td>\n",
       "      <td>0.200604</td>\n",
       "      <td>-0.145063</td>\n",
       "      <td>0.306575</td>\n",
       "      <td>-0.075308</td>\n",
       "      <td>0.345552</td>\n",
       "      <td>-0.136589</td>\n",
       "      <td>-0.432798</td>\n",
       "      <td>-0.456076</td>\n",
       "    </tr>\n",
       "    <tr>\n",
       "      <th>1449</th>\n",
       "      <td>-0.957339</td>\n",
       "      <td>0.014308</td>\n",
       "      <td>0.303843</td>\n",
       "      <td>0.444350</td>\n",
       "      <td>-0.133690</td>\n",
       "      <td>0.381804</td>\n",
       "      <td>-0.326432</td>\n",
       "      <td>0.878047</td>\n",
       "      <td>-0.304441</td>\n",
       "      <td>-0.247443</td>\n",
       "      <td>-0.193671</td>\n",
       "    </tr>\n",
       "    <tr>\n",
       "      <th>1450</th>\n",
       "      <td>-0.185894</td>\n",
       "      <td>1.062662</td>\n",
       "      <td>0.220857</td>\n",
       "      <td>-0.467643</td>\n",
       "      <td>-0.187757</td>\n",
       "      <td>-0.192703</td>\n",
       "      <td>-0.091597</td>\n",
       "      <td>-0.036576</td>\n",
       "      <td>0.038255</td>\n",
       "      <td>0.056518</td>\n",
       "      <td>-0.012800</td>\n",
       "    </tr>\n",
       "    <tr>\n",
       "      <th>1451</th>\n",
       "      <td>-1.182064</td>\n",
       "      <td>-0.038570</td>\n",
       "      <td>0.561561</td>\n",
       "      <td>0.701126</td>\n",
       "      <td>0.047645</td>\n",
       "      <td>0.193687</td>\n",
       "      <td>-0.027335</td>\n",
       "      <td>-0.339374</td>\n",
       "      <td>0.022267</td>\n",
       "      <td>-0.002573</td>\n",
       "      <td>-0.105316</td>\n",
       "    </tr>\n",
       "    <tr>\n",
       "      <th>1452</th>\n",
       "      <td>1.550242</td>\n",
       "      <td>0.275031</td>\n",
       "      <td>-0.013737</td>\n",
       "      <td>0.200604</td>\n",
       "      <td>-0.145063</td>\n",
       "      <td>0.306575</td>\n",
       "      <td>-0.075308</td>\n",
       "      <td>0.345552</td>\n",
       "      <td>-0.136589</td>\n",
       "      <td>-0.432798</td>\n",
       "      <td>-0.456076</td>\n",
       "    </tr>\n",
       "  </tbody>\n",
       "</table>\n",
       "<p>1453 rows × 11 columns</p>\n",
       "</div>"
      ],
      "text/plain": [
       "           PC1       PC2       PC3       PC4       PC5       PC6       PC7  \\\n",
       "0     0.425367 -0.219079  0.663255 -0.401300  0.201705 -0.389767 -0.211982   \n",
       "1    -0.218638  0.388190 -0.730827 -0.094724  0.044669 -0.086596 -0.095877   \n",
       "2     0.375415  0.730435 -0.122040  0.692262  0.839643 -0.687406  0.583112   \n",
       "3    -0.172926 -0.352752 -0.843795  0.206998 -0.681415 -0.036133 -0.054284   \n",
       "4     0.187057 -0.807610  0.028537  0.548332  0.854074 -0.097305 -0.457043   \n",
       "...        ...       ...       ...       ...       ...       ...       ...   \n",
       "1448  1.550242  0.275031 -0.013737  0.200604 -0.145063  0.306575 -0.075308   \n",
       "1449 -0.957339  0.014308  0.303843  0.444350 -0.133690  0.381804 -0.326432   \n",
       "1450 -0.185894  1.062662  0.220857 -0.467643 -0.187757 -0.192703 -0.091597   \n",
       "1451 -1.182064 -0.038570  0.561561  0.701126  0.047645  0.193687 -0.027335   \n",
       "1452  1.550242  0.275031 -0.013737  0.200604 -0.145063  0.306575 -0.075308   \n",
       "\n",
       "           PC8       PC9      PC10      PC11  \n",
       "0     0.163235  0.181007  0.515706 -0.567074  \n",
       "1    -0.034756  0.111476  0.493313 -0.500440  \n",
       "2     0.364379 -0.322288  0.061759  0.242741  \n",
       "3    -0.231477 -0.028003 -0.250678 -0.051034  \n",
       "4     0.171758 -0.074409  0.031897  0.082245  \n",
       "...        ...       ...       ...       ...  \n",
       "1448  0.345552 -0.136589 -0.432798 -0.456076  \n",
       "1449  0.878047 -0.304441 -0.247443 -0.193671  \n",
       "1450 -0.036576  0.038255  0.056518 -0.012800  \n",
       "1451 -0.339374  0.022267 -0.002573 -0.105316  \n",
       "1452  0.345552 -0.136589 -0.432798 -0.456076  \n",
       "\n",
       "[1453 rows x 11 columns]"
      ]
     },
     "execution_count": 33,
     "metadata": {},
     "output_type": "execute_result"
    }
   ],
   "source": [
    "Data_with_PCs=pd.DataFrame(x_pca,columns=['PC1','PC2','PC3','PC4','PC5','PC6','PC7','PC8','PC9','PC10','PC11'])\n",
    "Data_with_PCs"
   ]
  },
  {
   "cell_type": "markdown",
   "id": "780b49d5",
   "metadata": {},
   "source": [
    "### Now Lets see how the 11 attributes relates to these 11 principle components"
   ]
  },
  {
   "cell_type": "code",
   "execution_count": 34,
   "id": "812f65ed",
   "metadata": {},
   "outputs": [
    {
     "data": {
      "text/plain": [
       "(11, 11)"
      ]
     },
     "execution_count": 34,
     "metadata": {},
     "output_type": "execute_result"
    }
   ],
   "source": [
    "pca.components_.shape"
   ]
  },
  {
   "cell_type": "code",
   "execution_count": 35,
   "id": "ef6c8be3",
   "metadata": {},
   "outputs": [],
   "source": [
    "PC_composition=pd.DataFrame(pca.components_,index=['PC1','PC2','PC3','PC4','PC5','PC6','PC7','PC8','PC9','PC10','PC11'],columns=df_criteria.columns)"
   ]
  },
  {
   "cell_type": "code",
   "execution_count": 36,
   "id": "1f16401d",
   "metadata": {},
   "outputs": [
    {
     "data": {
      "text/html": [
       "<div>\n",
       "<style scoped>\n",
       "    .dataframe tbody tr th:only-of-type {\n",
       "        vertical-align: middle;\n",
       "    }\n",
       "\n",
       "    .dataframe tbody tr th {\n",
       "        vertical-align: top;\n",
       "    }\n",
       "\n",
       "    .dataframe thead th {\n",
       "        text-align: right;\n",
       "    }\n",
       "</style>\n",
       "<table border=\"1\" class=\"dataframe\">\n",
       "  <thead>\n",
       "    <tr style=\"text-align: right;\">\n",
       "      <th></th>\n",
       "      <th>yummy</th>\n",
       "      <th>convenient</th>\n",
       "      <th>spicy</th>\n",
       "      <th>fattening</th>\n",
       "      <th>greasy</th>\n",
       "      <th>fast</th>\n",
       "      <th>cheap</th>\n",
       "      <th>tasty</th>\n",
       "      <th>expensive</th>\n",
       "      <th>healthy</th>\n",
       "      <th>disgusting</th>\n",
       "    </tr>\n",
       "  </thead>\n",
       "  <tbody>\n",
       "    <tr>\n",
       "      <th>PC1</th>\n",
       "      <td>-0.476933</td>\n",
       "      <td>-0.155332</td>\n",
       "      <td>-0.006356</td>\n",
       "      <td>0.116232</td>\n",
       "      <td>0.304443</td>\n",
       "      <td>-0.108493</td>\n",
       "      <td>-0.337186</td>\n",
       "      <td>-0.471514</td>\n",
       "      <td>0.329042</td>\n",
       "      <td>-0.213711</td>\n",
       "      <td>0.374753</td>\n",
       "    </tr>\n",
       "    <tr>\n",
       "      <th>PC2</th>\n",
       "      <td>0.363790</td>\n",
       "      <td>0.016414</td>\n",
       "      <td>0.018809</td>\n",
       "      <td>-0.034094</td>\n",
       "      <td>-0.063839</td>\n",
       "      <td>-0.086972</td>\n",
       "      <td>-0.610633</td>\n",
       "      <td>0.307318</td>\n",
       "      <td>0.601286</td>\n",
       "      <td>0.076593</td>\n",
       "      <td>-0.139656</td>\n",
       "    </tr>\n",
       "    <tr>\n",
       "      <th>PC3</th>\n",
       "      <td>-0.304444</td>\n",
       "      <td>-0.062515</td>\n",
       "      <td>-0.037019</td>\n",
       "      <td>-0.322359</td>\n",
       "      <td>-0.802373</td>\n",
       "      <td>-0.064642</td>\n",
       "      <td>-0.149310</td>\n",
       "      <td>-0.287265</td>\n",
       "      <td>0.024397</td>\n",
       "      <td>0.192051</td>\n",
       "      <td>-0.088571</td>\n",
       "    </tr>\n",
       "    <tr>\n",
       "      <th>PC4</th>\n",
       "      <td>0.055162</td>\n",
       "      <td>-0.142425</td>\n",
       "      <td>0.197619</td>\n",
       "      <td>-0.354139</td>\n",
       "      <td>0.253960</td>\n",
       "      <td>-0.097363</td>\n",
       "      <td>0.118958</td>\n",
       "      <td>-0.002547</td>\n",
       "      <td>0.067816</td>\n",
       "      <td>0.763488</td>\n",
       "      <td>0.369539</td>\n",
       "    </tr>\n",
       "    <tr>\n",
       "      <th>PC5</th>\n",
       "      <td>-0.307535</td>\n",
       "      <td>0.277608</td>\n",
       "      <td>0.070620</td>\n",
       "      <td>-0.073405</td>\n",
       "      <td>0.361399</td>\n",
       "      <td>0.107930</td>\n",
       "      <td>-0.128973</td>\n",
       "      <td>-0.210899</td>\n",
       "      <td>-0.003125</td>\n",
       "      <td>0.287846</td>\n",
       "      <td>-0.729209</td>\n",
       "    </tr>\n",
       "    <tr>\n",
       "      <th>PC6</th>\n",
       "      <td>0.170738</td>\n",
       "      <td>-0.347830</td>\n",
       "      <td>-0.355087</td>\n",
       "      <td>-0.406515</td>\n",
       "      <td>0.209347</td>\n",
       "      <td>-0.594632</td>\n",
       "      <td>-0.103241</td>\n",
       "      <td>-0.076914</td>\n",
       "      <td>-0.261342</td>\n",
       "      <td>-0.178226</td>\n",
       "      <td>-0.210878</td>\n",
       "    </tr>\n",
       "    <tr>\n",
       "      <th>PC7</th>\n",
       "      <td>-0.280519</td>\n",
       "      <td>-0.059738</td>\n",
       "      <td>0.707637</td>\n",
       "      <td>-0.385943</td>\n",
       "      <td>0.036170</td>\n",
       "      <td>-0.086846</td>\n",
       "      <td>-0.040449</td>\n",
       "      <td>0.360453</td>\n",
       "      <td>-0.068385</td>\n",
       "      <td>-0.349616</td>\n",
       "      <td>-0.026792</td>\n",
       "    </tr>\n",
       "    <tr>\n",
       "      <th>PC8</th>\n",
       "      <td>0.013041</td>\n",
       "      <td>-0.113079</td>\n",
       "      <td>0.375934</td>\n",
       "      <td>0.589622</td>\n",
       "      <td>-0.138241</td>\n",
       "      <td>-0.627799</td>\n",
       "      <td>0.140060</td>\n",
       "      <td>-0.072792</td>\n",
       "      <td>0.029539</td>\n",
       "      <td>0.176303</td>\n",
       "      <td>-0.167181</td>\n",
       "    </tr>\n",
       "    <tr>\n",
       "      <th>PC9</th>\n",
       "      <td>0.572403</td>\n",
       "      <td>-0.018465</td>\n",
       "      <td>0.400280</td>\n",
       "      <td>-0.160512</td>\n",
       "      <td>-0.002847</td>\n",
       "      <td>0.166197</td>\n",
       "      <td>0.076069</td>\n",
       "      <td>-0.639086</td>\n",
       "      <td>0.066996</td>\n",
       "      <td>-0.185572</td>\n",
       "      <td>-0.072483</td>\n",
       "    </tr>\n",
       "    <tr>\n",
       "      <th>PC10</th>\n",
       "      <td>-0.110284</td>\n",
       "      <td>-0.665818</td>\n",
       "      <td>-0.075634</td>\n",
       "      <td>-0.005338</td>\n",
       "      <td>0.008707</td>\n",
       "      <td>0.239532</td>\n",
       "      <td>0.428087</td>\n",
       "      <td>0.079184</td>\n",
       "      <td>0.454399</td>\n",
       "      <td>-0.038117</td>\n",
       "      <td>-0.289592</td>\n",
       "    </tr>\n",
       "    <tr>\n",
       "      <th>PC11</th>\n",
       "      <td>0.045439</td>\n",
       "      <td>-0.541616</td>\n",
       "      <td>0.141730</td>\n",
       "      <td>0.250910</td>\n",
       "      <td>0.001642</td>\n",
       "      <td>0.339265</td>\n",
       "      <td>-0.489283</td>\n",
       "      <td>0.019552</td>\n",
       "      <td>-0.490069</td>\n",
       "      <td>0.157608</td>\n",
       "      <td>-0.040662</td>\n",
       "    </tr>\n",
       "  </tbody>\n",
       "</table>\n",
       "</div>"
      ],
      "text/plain": [
       "         yummy  convenient     spicy  fattening    greasy      fast     cheap  \\\n",
       "PC1  -0.476933   -0.155332 -0.006356   0.116232  0.304443 -0.108493 -0.337186   \n",
       "PC2   0.363790    0.016414  0.018809  -0.034094 -0.063839 -0.086972 -0.610633   \n",
       "PC3  -0.304444   -0.062515 -0.037019  -0.322359 -0.802373 -0.064642 -0.149310   \n",
       "PC4   0.055162   -0.142425  0.197619  -0.354139  0.253960 -0.097363  0.118958   \n",
       "PC5  -0.307535    0.277608  0.070620  -0.073405  0.361399  0.107930 -0.128973   \n",
       "PC6   0.170738   -0.347830 -0.355087  -0.406515  0.209347 -0.594632 -0.103241   \n",
       "PC7  -0.280519   -0.059738  0.707637  -0.385943  0.036170 -0.086846 -0.040449   \n",
       "PC8   0.013041   -0.113079  0.375934   0.589622 -0.138241 -0.627799  0.140060   \n",
       "PC9   0.572403   -0.018465  0.400280  -0.160512 -0.002847  0.166197  0.076069   \n",
       "PC10 -0.110284   -0.665818 -0.075634  -0.005338  0.008707  0.239532  0.428087   \n",
       "PC11  0.045439   -0.541616  0.141730   0.250910  0.001642  0.339265 -0.489283   \n",
       "\n",
       "         tasty  expensive   healthy  disgusting  \n",
       "PC1  -0.471514   0.329042 -0.213711    0.374753  \n",
       "PC2   0.307318   0.601286  0.076593   -0.139656  \n",
       "PC3  -0.287265   0.024397  0.192051   -0.088571  \n",
       "PC4  -0.002547   0.067816  0.763488    0.369539  \n",
       "PC5  -0.210899  -0.003125  0.287846   -0.729209  \n",
       "PC6  -0.076914  -0.261342 -0.178226   -0.210878  \n",
       "PC7   0.360453  -0.068385 -0.349616   -0.026792  \n",
       "PC8  -0.072792   0.029539  0.176303   -0.167181  \n",
       "PC9  -0.639086   0.066996 -0.185572   -0.072483  \n",
       "PC10  0.079184   0.454399 -0.038117   -0.289592  \n",
       "PC11  0.019552  -0.490069  0.157608   -0.040662  "
      ]
     },
     "execution_count": 36,
     "metadata": {},
     "output_type": "execute_result"
    }
   ],
   "source": [
    "PC_composition"
   ]
  },
  {
   "cell_type": "code",
   "execution_count": 37,
   "id": "7c01b4b8",
   "metadata": {},
   "outputs": [
    {
     "data": {
      "image/png": "[encoded data removed]",
      "text/plain": [
       "<Figure size 864x576 with 2 Axes>"
      ]
     },
     "metadata": {
      "needs_background": "light"
     },
     "output_type": "display_data"
    }
   ],
   "source": [
    "sns.set_palette(\"coolwarm\")\n",
    "plt.figure(figsize=(12, 8))\n",
    "plt.title(\"Principal Component Composition\")\n",
    "sns.heatmap(PC_composition, cmap=\"coolwarm\", annot=True, fmt=\".2f\")\n",
    "plt.show()\n"
   ]
  },
  {
   "cell_type": "markdown",
   "id": "f52ba4bf",
   "metadata": {},
   "source": [
    "* **In relation to Principal Component 1, the variables 'Yummy' and 'Disgusting' exhibit the highest loadings. Notably, 'Yummy' has the highest positive loading, while 'Disgusting' displays the most negative loading. This pattern of loadings suggests that Principal Component 1 primarily captures the 'taste' dimension.**\n",
    "\n",
    "* **For Principal Component 2, the variable'Cheap' displays the most negative loading, while 'Expensive' exhibits the highest positive loading. This prominent pattern of loadings strongly suggests that Principal Component 2 effectively captures the 'price' dimension.**"
   ]
  },
  {
   "cell_type": "markdown",
   "id": "f978ed84",
   "metadata": {},
   "source": [
    "### Now lets use the 2 principle components to map different customers and 11 features in 2-D space"
   ]
  },
  {
   "cell_type": "code",
   "execution_count": 38,
   "id": "a7f335c6",
   "metadata": {},
   "outputs": [],
   "source": [
    "def biplot(score,coeff,labels):\n",
    "    xs = score[:,0]         # Extract the PCA1 scores for all rows(1453 here)\n",
    "    ys = score[:,1]         # Extract the PCA1 scores for all rows(1453 here) \n",
    "    n= coeff.shape[0]       # Gives info about how many original varibales there were (11 here)\n",
    "    scalex = 1.5/(xs.max()-xs.min())\n",
    "    scaley = 1.5/(ys.max()-ys.min())\n",
    "    fig,ax = plt.subplots(figsize=(12,10))\n",
    "    \n",
    "    sns.scatterplot(xs*scalex,ys*scaley)\n",
    "    \n",
    "    #for i ,txt in enumerate(names):\n",
    "        #ax.annotate(txt,(xs[i]*scalex,ys[i]*scaley))\n",
    "        \n",
    "    for i in range(n):\n",
    "        ax.arrow(0,0,coeff[i,0],coeff[i,1],color='r',alpha=0.5)\n",
    "        ax.text(coeff[i,0]*1.15,coeff[i,1]*1.15,labels[i],color='g',ha='center',va='center')\n",
    "    ax.set_xlim(-1,1)\n",
    "    ax.set_ylim(-1,1)\n",
    "    ax.set_xlabel(\"PC1 : Taste Dimension\")\n",
    "    ax.set_ylabel(\"PC2 : Price DImension\")\n",
    "    "
   ]
  },
  {
   "cell_type": "code",
   "execution_count": 39,
   "id": "0907a946",
   "metadata": {},
   "outputs": [
    {
     "name": "stderr",
     "output_type": "stream",
     "text": [
      "C:\\Users\\91938\\anaconda3\\lib\\site-packages\\seaborn\\_decorators.py:36: FutureWarning: Pass the following variables as keyword args: x, y. From version 0.12, the only valid positional argument will be `data`, and passing other arguments without an explicit keyword will result in an error or misinterpretation.\n",
      "  warnings.warn(\n"
     ]
    },
    {
     "data": {
      "image/png": "[encoded data removed]",
      "text/plain": [
       "<Figure size 864x720 with 1 Axes>"
      ]
     },
     "metadata": {
      "needs_background": "light"
     },
     "output_type": "display_data"
    }
   ],
   "source": [
    "biplot(Data_with_PCs.values[:,0:2],np.transpose(PC_composition.values[0:2,:]),labels=df_criteria.columns)"
   ]
  },
  {
   "cell_type": "markdown",
   "id": "59df06d4",
   "metadata": {},
   "source": [
    "* **Two attributes, 'CHEAP' and 'EXPENSIVE,' stand out as significant. These two attributes have a major influence on how products are evaluated, and they seem to be assessed independently of the other attributes.**\n",
    "* **The remaining attributes can be grouped into positive and negative perceptions. Attributes like 'FATTENING,' 'DISGUSTING,' and 'GREASY' point in the same direction on the plot. This suggests that people who perceive a product as 'FATTENING' are also likely to perceive it as 'DISGUSTING' and 'GREASY.' On the other hand, positive attributes like 'FAST,' 'CONVENIENT,' 'HEALTHY,' 'TASTY,' and 'YUMMY' are aligned in the opposite direction.**\n",
    "* **In terms of the 'EXPENSIVE' versus 'CHEAP' axis, we can see distinct groups of observations. There's a cluster of consumers at the bottom around the 'CHEAP' arrow, indicating they associate the product with being affordable. At the top, there's another cluster of respondents around the 'EXPENSIVE' arrow, suggesting they perceive the product as costly. Additionally, there's a middle group of respondents between these two clusters.**"
   ]
  },
  {
   "cell_type": "markdown",
   "id": "61a8e222",
   "metadata": {},
   "source": [
    "## Section 4: Extracting Segments using K-Means Clusturing"
   ]
  },
  {
   "cell_type": "markdown",
   "id": "bcded927",
   "metadata": {},
   "source": [
    "### First let us find the number of k(segments) we should form"
   ]
  },
  {
   "cell_type": "code",
   "execution_count": 40,
   "id": "55cd62d3",
   "metadata": {},
   "outputs": [],
   "source": [
    "from yellowbrick.cluster import KElbowVisualizer"
   ]
  },
  {
   "cell_type": "code",
   "execution_count": 41,
   "id": "6f1b7742",
   "metadata": {},
   "outputs": [],
   "source": [
    "from sklearn.cluster import KMeans"
   ]
  },
  {
   "cell_type": "code",
   "execution_count": 42,
   "id": "949d1d87",
   "metadata": {},
   "outputs": [
    {
     "data": {
      "image/png": "[encoded data removed]",
      "text/plain": [
       "<Figure size 576x396 with 2 Axes>"
      ]
     },
     "metadata": {},
     "output_type": "display_data"
    },
    {
     "data": {
      "text/plain": [
       "<AxesSubplot:title={'center':'Distortion Score Elbow for KMeans Clustering'}, xlabel='k', ylabel='distortion score'>"
      ]
     },
     "execution_count": 42,
     "metadata": {},
     "output_type": "execute_result"
    }
   ],
   "source": [
    "model = KMeans()\n",
    "visualizer = KElbowVisualizer(model, k=(2,8)).fit(df_criteria)\n",
    "visualizer.show()"
   ]
  },
  {
   "cell_type": "code",
   "execution_count": 43,
   "id": "b7dee3aa",
   "metadata": {},
   "outputs": [
    {
     "data": {
      "image/png": "[encoded data removed]",
      "text/plain": [
       "<Figure size 1080x504 with 1 Axes>"
      ]
     },
     "metadata": {},
     "output_type": "display_data"
    }
   ],
   "source": [
    "import scipy.cluster.hierarchy as shc\n",
    "\n",
    "plt.figure(figsize=(15, 7))  \n",
    "plt.title(\"Dendrograms\")  \n",
    "dend = shc.dendrogram(shc.linkage(df_criteria, method='ward'))"
   ]
  },
  {
   "cell_type": "markdown",
   "id": "65127405",
   "metadata": {},
   "source": [
    "### From all the above analysis, we can conclude that 4 clusters seems like a good fit for the data."
   ]
  },
  {
   "cell_type": "markdown",
   "id": "a2e1189f",
   "metadata": {},
   "source": [
    "### Applying k means to get 4 customer segments"
   ]
  },
  {
   "cell_type": "code",
   "execution_count": 44,
   "id": "611309d5",
   "metadata": {},
   "outputs": [],
   "source": [
    "kmeans = KMeans(n_clusters=4).fit(df_criteria)"
   ]
  },
  {
   "cell_type": "code",
   "execution_count": 45,
   "id": "9d2f4cf2",
   "metadata": {},
   "outputs": [
    {
     "data": {
      "text/plain": [
       "(1453,)"
      ]
     },
     "execution_count": 45,
     "metadata": {},
     "output_type": "execute_result"
    }
   ],
   "source": [
    "segments=kmeans.labels_\n",
    "segments.shape"
   ]
  },
  {
   "cell_type": "code",
   "execution_count": 46,
   "id": "9066ebe7",
   "metadata": {},
   "outputs": [
    {
     "name": "stderr",
     "output_type": "stream",
     "text": [
      "C:\\Users\\91938\\AppData\\Local\\Temp/ipykernel_6732/2071998636.py:1: SettingWithCopyWarning: \n",
      "A value is trying to be set on a copy of a slice from a DataFrame.\n",
      "Try using .loc[row_indexer,col_indexer] = value instead\n",
      "\n",
      "See the caveats in the documentation: https://pandas.pydata.org/pandas-docs/stable/user_guide/indexing.html#returning-a-view-versus-a-copy\n",
      "  df_criteria['Cluster']=segments\n"
     ]
    },
    {
     "data": {
      "text/html": [
       "<div>\n",
       "<style scoped>\n",
       "    .dataframe tbody tr th:only-of-type {\n",
       "        vertical-align: middle;\n",
       "    }\n",
       "\n",
       "    .dataframe tbody tr th {\n",
       "        vertical-align: top;\n",
       "    }\n",
       "\n",
       "    .dataframe thead th {\n",
       "        text-align: right;\n",
       "    }\n",
       "</style>\n",
       "<table border=\"1\" class=\"dataframe\">\n",
       "  <thead>\n",
       "    <tr style=\"text-align: right;\">\n",
       "      <th></th>\n",
       "      <th>yummy</th>\n",
       "      <th>convenient</th>\n",
       "      <th>spicy</th>\n",
       "      <th>fattening</th>\n",
       "      <th>greasy</th>\n",
       "      <th>fast</th>\n",
       "      <th>cheap</th>\n",
       "      <th>tasty</th>\n",
       "      <th>expensive</th>\n",
       "      <th>healthy</th>\n",
       "      <th>disgusting</th>\n",
       "      <th>Cluster</th>\n",
       "    </tr>\n",
       "  </thead>\n",
       "  <tbody>\n",
       "    <tr>\n",
       "      <th>0</th>\n",
       "      <td>0</td>\n",
       "      <td>1</td>\n",
       "      <td>0</td>\n",
       "      <td>1</td>\n",
       "      <td>0</td>\n",
       "      <td>1</td>\n",
       "      <td>1</td>\n",
       "      <td>0</td>\n",
       "      <td>1</td>\n",
       "      <td>0</td>\n",
       "      <td>0</td>\n",
       "      <td>0</td>\n",
       "    </tr>\n",
       "    <tr>\n",
       "      <th>1</th>\n",
       "      <td>1</td>\n",
       "      <td>1</td>\n",
       "      <td>0</td>\n",
       "      <td>1</td>\n",
       "      <td>1</td>\n",
       "      <td>1</td>\n",
       "      <td>1</td>\n",
       "      <td>1</td>\n",
       "      <td>1</td>\n",
       "      <td>0</td>\n",
       "      <td>0</td>\n",
       "      <td>3</td>\n",
       "    </tr>\n",
       "  </tbody>\n",
       "</table>\n",
       "</div>"
      ],
      "text/plain": [
       "   yummy  convenient  spicy  fattening  greasy  fast  cheap  tasty  expensive  \\\n",
       "0      0           1      0          1       0     1      1      0          1   \n",
       "1      1           1      0          1       1     1      1      1          1   \n",
       "\n",
       "   healthy  disgusting  Cluster  \n",
       "0        0           0        0  \n",
       "1        0           0        3  "
      ]
     },
     "execution_count": 46,
     "metadata": {},
     "output_type": "execute_result"
    }
   ],
   "source": [
    "df_criteria['Cluster']=segments\n",
    "df_criteria.head(2)"
   ]
  },
  {
   "cell_type": "markdown",
   "id": "9a94cfaf",
   "metadata": {},
   "source": [
    "### Lets rename the clusters a little better."
   ]
  },
  {
   "cell_type": "code",
   "execution_count": 47,
   "id": "b137b46a",
   "metadata": {},
   "outputs": [],
   "source": [
    "def Cluster_namer(num):\n",
    "    if(num==0):\n",
    "        return 'A'\n",
    "    elif(num==1):\n",
    "        return 'B'\n",
    "    elif(num==2):\n",
    "        return 'C'\n",
    "    else:\n",
    "        return 'D'"
   ]
  },
  {
   "cell_type": "code",
   "execution_count": 48,
   "id": "abb9fd82",
   "metadata": {},
   "outputs": [
    {
     "name": "stderr",
     "output_type": "stream",
     "text": [
      "C:\\Users\\91938\\AppData\\Local\\Temp/ipykernel_6732/4289545113.py:1: SettingWithCopyWarning: \n",
      "A value is trying to be set on a copy of a slice from a DataFrame.\n",
      "Try using .loc[row_indexer,col_indexer] = value instead\n",
      "\n",
      "See the caveats in the documentation: https://pandas.pydata.org/pandas-docs/stable/user_guide/indexing.html#returning-a-view-versus-a-copy\n",
      "  df_criteria['Cluster']=df_criteria['Cluster'].apply(lambda x:Cluster_namer(x))\n"
     ]
    }
   ],
   "source": [
    "df_criteria['Cluster']=df_criteria['Cluster'].apply(lambda x:Cluster_namer(x))"
   ]
  },
  {
   "cell_type": "code",
   "execution_count": 49,
   "id": "26c29aeb",
   "metadata": {},
   "outputs": [
    {
     "data": {
      "text/html": [
       "<div>\n",
       "<style scoped>\n",
       "    .dataframe tbody tr th:only-of-type {\n",
       "        vertical-align: middle;\n",
       "    }\n",
       "\n",
       "    .dataframe tbody tr th {\n",
       "        vertical-align: top;\n",
       "    }\n",
       "\n",
       "    .dataframe thead th {\n",
       "        text-align: right;\n",
       "    }\n",
       "</style>\n",
       "<table border=\"1\" class=\"dataframe\">\n",
       "  <thead>\n",
       "    <tr style=\"text-align: right;\">\n",
       "      <th></th>\n",
       "      <th>yummy</th>\n",
       "      <th>convenient</th>\n",
       "      <th>spicy</th>\n",
       "      <th>fattening</th>\n",
       "      <th>greasy</th>\n",
       "      <th>fast</th>\n",
       "      <th>cheap</th>\n",
       "      <th>tasty</th>\n",
       "      <th>expensive</th>\n",
       "      <th>healthy</th>\n",
       "      <th>disgusting</th>\n",
       "      <th>Cluster</th>\n",
       "    </tr>\n",
       "  </thead>\n",
       "  <tbody>\n",
       "    <tr>\n",
       "      <th>0</th>\n",
       "      <td>0</td>\n",
       "      <td>1</td>\n",
       "      <td>0</td>\n",
       "      <td>1</td>\n",
       "      <td>0</td>\n",
       "      <td>1</td>\n",
       "      <td>1</td>\n",
       "      <td>0</td>\n",
       "      <td>1</td>\n",
       "      <td>0</td>\n",
       "      <td>0</td>\n",
       "      <td>A</td>\n",
       "    </tr>\n",
       "    <tr>\n",
       "      <th>1</th>\n",
       "      <td>1</td>\n",
       "      <td>1</td>\n",
       "      <td>0</td>\n",
       "      <td>1</td>\n",
       "      <td>1</td>\n",
       "      <td>1</td>\n",
       "      <td>1</td>\n",
       "      <td>1</td>\n",
       "      <td>1</td>\n",
       "      <td>0</td>\n",
       "      <td>0</td>\n",
       "      <td>D</td>\n",
       "    </tr>\n",
       "    <tr>\n",
       "      <th>2</th>\n",
       "      <td>0</td>\n",
       "      <td>1</td>\n",
       "      <td>1</td>\n",
       "      <td>1</td>\n",
       "      <td>1</td>\n",
       "      <td>1</td>\n",
       "      <td>0</td>\n",
       "      <td>1</td>\n",
       "      <td>1</td>\n",
       "      <td>1</td>\n",
       "      <td>0</td>\n",
       "      <td>D</td>\n",
       "    </tr>\n",
       "    <tr>\n",
       "      <th>3</th>\n",
       "      <td>1</td>\n",
       "      <td>1</td>\n",
       "      <td>0</td>\n",
       "      <td>1</td>\n",
       "      <td>1</td>\n",
       "      <td>1</td>\n",
       "      <td>1</td>\n",
       "      <td>1</td>\n",
       "      <td>0</td>\n",
       "      <td>0</td>\n",
       "      <td>1</td>\n",
       "      <td>B</td>\n",
       "    </tr>\n",
       "    <tr>\n",
       "      <th>4</th>\n",
       "      <td>0</td>\n",
       "      <td>1</td>\n",
       "      <td>0</td>\n",
       "      <td>1</td>\n",
       "      <td>1</td>\n",
       "      <td>1</td>\n",
       "      <td>1</td>\n",
       "      <td>0</td>\n",
       "      <td>0</td>\n",
       "      <td>1</td>\n",
       "      <td>0</td>\n",
       "      <td>A</td>\n",
       "    </tr>\n",
       "  </tbody>\n",
       "</table>\n",
       "</div>"
      ],
      "text/plain": [
       "   yummy  convenient  spicy  fattening  greasy  fast  cheap  tasty  expensive  \\\n",
       "0      0           1      0          1       0     1      1      0          1   \n",
       "1      1           1      0          1       1     1      1      1          1   \n",
       "2      0           1      1          1       1     1      0      1          1   \n",
       "3      1           1      0          1       1     1      1      1          0   \n",
       "4      0           1      0          1       1     1      1      0          0   \n",
       "\n",
       "   healthy  disgusting Cluster  \n",
       "0        0           0       A  \n",
       "1        0           0       D  \n",
       "2        1           0       D  \n",
       "3        0           1       B  \n",
       "4        1           0       A  "
      ]
     },
     "execution_count": 49,
     "metadata": {},
     "output_type": "execute_result"
    }
   ],
   "source": [
    "df_criteria.head()"
   ]
  },
  {
   "cell_type": "markdown",
   "id": "630b1b23",
   "metadata": {},
   "source": [
    " "
   ]
  },
  {
   "cell_type": "markdown",
   "id": "6592d4be",
   "metadata": {},
   "source": [
    "## Section 5 Analyzing the segments"
   ]
  },
  {
   "cell_type": "code",
   "execution_count": 50,
   "id": "42cd9abc",
   "metadata": {},
   "outputs": [
    {
     "data": {
      "image/png": "[encoded data removed]",
      "text/plain": [
       "<Figure size 432x432 with 1 Axes>"
      ]
     },
     "metadata": {},
     "output_type": "display_data"
    }
   ],
   "source": [
    "plt.figure(figsize=(6,6))\n",
    "plt.pie(df_criteria['Cluster'].value_counts(),autopct='%1.2f%%',explode=[.1,0,0,0])\n",
    "plt.legend(df_criteria['Cluster'].value_counts().index)\n",
    "plt.show()"
   ]
  },
  {
   "cell_type": "markdown",
   "id": "387836af",
   "metadata": {},
   "source": [
    "* **The majority of people are in segment B around 40% followed by segment D**"
   ]
  },
  {
   "cell_type": "code",
   "execution_count": 51,
   "id": "9b73d3db",
   "metadata": {},
   "outputs": [
    {
     "data": {
      "text/plain": [
       "Text(0.5, 1.0, 'Cluster D')"
      ]
     },
     "execution_count": 51,
     "metadata": {},
     "output_type": "execute_result"
    },
    {
     "data": {
      "image/png": "[encoded data removed]",
      "text/plain": [
       "<Figure size 1296x648 with 4 Axes>"
      ]
     },
     "metadata": {},
     "output_type": "display_data"
    }
   ],
   "source": [
    "plt.figure(figsize=(18,9))\n",
    "plt.subplot(2,2,1)\n",
    "#plt.figure(figsize=(5,4))\n",
    "\n",
    "\n",
    "sns.barplot(data=df_criteria[df_criteria['Cluster']=='A'].drop(['Cluster'],axis=1))\n",
    "plt.tick_params(axis='x',label1On=False)\n",
    "plt.title('Cluster A')\n",
    "\n",
    "plt.subplot(2,2,2)\n",
    "#plt.figure(figsize=(5,4))\n",
    "\n",
    "sns.barplot(data=df_criteria[df_criteria['Cluster']=='B'].drop(['Cluster'],axis=1))\n",
    "plt.tick_params(axis='x',label1On=False)\n",
    "plt.title('Cluster B')\n",
    "\n",
    "plt.subplot(2,2,3)\n",
    "#plt.figure(figsize=(5,4))\n",
    "plt.xticks(rotation = 45)\n",
    "sns.barplot(data=df_criteria[df_criteria['Cluster']=='C'].drop(['Cluster'],axis=1))\n",
    "plt.title('Cluster C')\n",
    "\n",
    "plt.subplot(2,2,4)\n",
    "#plt.figure(figsize=(5,4))\n",
    "plt.xticks(rotation =45)\n",
    "sns.barplot(data=df_criteria[df_criteria['Cluster']=='D'].drop(['Cluster'],axis=1))\n",
    "plt.title('Cluster D')"
   ]
  },
  {
   "cell_type": "markdown",
   "id": "c273c356",
   "metadata": {},
   "source": [
    "* **We see that segment A thinks of our brand as cheap and greasy. This is a very distinct perception.**\n",
    "* **Segment C views it as disgusting and expensive. This is also a very distinct perception, setting apart members of this segment from all other consumers.**\n",
    "* **Members of segment D share the view that we are expensive, but also think that the food served is tasty and yummy.**\n",
    "* **Finally, segment B is all praise: members of this market segment believe that food is tasty, yummy and cheap and at least to some extent healthy.**\n",
    "* **Although not strong, concern for the oil is evident in all segments to some extent we should address this concern.**"
   ]
  },
  {
   "cell_type": "markdown",
   "id": "c75bd24b",
   "metadata": {},
   "source": [
    "### Lets create a biplot. "
   ]
  },
  {
   "cell_type": "code",
   "execution_count": 55,
   "id": "af74d017",
   "metadata": {},
   "outputs": [],
   "source": [
    "def biplot(score,coeff,hue,labels):\n",
    "    xs = score[:,0]         # Extract the PCA1 scores for all rows(1453 here)\n",
    "    ys = score[:,1]         # Extract the PCA1 scores for all rows(1453 here) \n",
    "    n= coeff.shape[0]       # Gives info about how many original varibales there were (11 here)\n",
    "    scalex = 1.5/(xs.max()-xs.min())\n",
    "    scaley = 1.5/(ys.max()-ys.min())\n",
    "    fig,ax = plt.subplots(figsize=(12,10))\n",
    "    \n",
    "    sns.scatterplot(xs*scalex,ys*scaley,hue=hue)\n",
    "    \n",
    "    #for i ,txt in enumerate(names):\n",
    "        #ax.annotate(txt,(xs[i]*scalex,ys[i]*scaley))\n",
    "        \n",
    "    for i in range(n):\n",
    "        ax.arrow(0,0,coeff[i,0],coeff[i,1],color='r',alpha=0.5)\n",
    "        ax.text(coeff[i,0]*1.15,coeff[i,1]*1.15,labels[i],color='g',ha='center',va='center')\n",
    "    ax.set_xlim(-1,1)\n",
    "    ax.set_ylim(-1,1)\n",
    "    ax.set_xlabel(\"PC1 : Taste Dimension\")\n",
    "    ax.set_ylabel(\"PC2 : Price DImension\")\n",
    "    "
   ]
  },
  {
   "cell_type": "code",
   "execution_count": 56,
   "id": "9056d0d7",
   "metadata": {},
   "outputs": [
    {
     "name": "stderr",
     "output_type": "stream",
     "text": [
      "C:\\Users\\91938\\anaconda3\\lib\\site-packages\\seaborn\\_decorators.py:36: FutureWarning: Pass the following variables as keyword args: x, y. From version 0.12, the only valid positional argument will be `data`, and passing other arguments without an explicit keyword will result in an error or misinterpretation.\n",
      "  warnings.warn(\n"
     ]
    },
    {
     "data": {
      "image/png": "[encoded data removed]",
      "text/plain": [
       "<Figure size 864x720 with 1 Axes>"
      ]
     },
     "metadata": {},
     "output_type": "display_data"
    }
   ],
   "source": [
    "biplot(Data_with_PCs.values[:,0:2],np.transpose(PC_composition.values[0:2,:]),labels=df_criteria.columns,hue=df_criteria['Cluster'])"
   ]
  },
  {
   "cell_type": "markdown",
   "id": "b6e6b8e0",
   "metadata": {},
   "source": [
    "* **Segments A and B both view our brand as cheap, with members of segment B having some positive beliefs and members of segment A associating our brand primarily with negative attributes.**\n",
    "* **At the other end of the price spectrum, majority of people in segments C and D agree that we are not cheap, but disagree on other features with segment C having a negative opinion and segment D having a positive one.**"
   ]
  },
  {
   "cell_type": "markdown",
   "id": "4bb65ae2",
   "metadata": {},
   "source": [
    "### Lets add the Cluster column to main dataframe for further analysis for age and gender analysis of clusters"
   ]
  },
  {
   "cell_type": "code",
   "execution_count": 57,
   "id": "360c6366",
   "metadata": {},
   "outputs": [
    {
     "data": {
      "text/html": [
       "<div>\n",
       "<style scoped>\n",
       "    .dataframe tbody tr th:only-of-type {\n",
       "        vertical-align: middle;\n",
       "    }\n",
       "\n",
       "    .dataframe tbody tr th {\n",
       "        vertical-align: top;\n",
       "    }\n",
       "\n",
       "    .dataframe thead th {\n",
       "        text-align: right;\n",
       "    }\n",
       "</style>\n",
       "<table border=\"1\" class=\"dataframe\">\n",
       "  <thead>\n",
       "    <tr style=\"text-align: right;\">\n",
       "      <th></th>\n",
       "      <th>Like</th>\n",
       "      <th>Age</th>\n",
       "      <th>VisitFrequency</th>\n",
       "      <th>Gender</th>\n",
       "      <th>yummy</th>\n",
       "      <th>convenient</th>\n",
       "      <th>spicy</th>\n",
       "      <th>fattening</th>\n",
       "      <th>greasy</th>\n",
       "      <th>fast</th>\n",
       "      <th>cheap</th>\n",
       "      <th>tasty</th>\n",
       "      <th>expensive</th>\n",
       "      <th>healthy</th>\n",
       "      <th>disgusting</th>\n",
       "    </tr>\n",
       "  </thead>\n",
       "  <tbody>\n",
       "    <tr>\n",
       "      <th>0</th>\n",
       "      <td>-3</td>\n",
       "      <td>61</td>\n",
       "      <td>Every three months</td>\n",
       "      <td>Female</td>\n",
       "      <td>0</td>\n",
       "      <td>1</td>\n",
       "      <td>0</td>\n",
       "      <td>1</td>\n",
       "      <td>0</td>\n",
       "      <td>1</td>\n",
       "      <td>1</td>\n",
       "      <td>0</td>\n",
       "      <td>1</td>\n",
       "      <td>0</td>\n",
       "      <td>0</td>\n",
       "    </tr>\n",
       "  </tbody>\n",
       "</table>\n",
       "</div>"
      ],
      "text/plain": [
       "   Like  Age      VisitFrequency  Gender  yummy  convenient  spicy  fattening  \\\n",
       "0    -3   61  Every three months  Female      0           1      0          1   \n",
       "\n",
       "   greasy  fast  cheap  tasty  expensive  healthy  disgusting  \n",
       "0       0     1      1      0          1        0           0  "
      ]
     },
     "execution_count": 57,
     "metadata": {},
     "output_type": "execute_result"
    }
   ],
   "source": [
    "df.head(1)"
   ]
  },
  {
   "cell_type": "code",
   "execution_count": 58,
   "id": "dac648c2",
   "metadata": {},
   "outputs": [
    {
     "data": {
      "text/html": [
       "<div>\n",
       "<style scoped>\n",
       "    .dataframe tbody tr th:only-of-type {\n",
       "        vertical-align: middle;\n",
       "    }\n",
       "\n",
       "    .dataframe tbody tr th {\n",
       "        vertical-align: top;\n",
       "    }\n",
       "\n",
       "    .dataframe thead th {\n",
       "        text-align: right;\n",
       "    }\n",
       "</style>\n",
       "<table border=\"1\" class=\"dataframe\">\n",
       "  <thead>\n",
       "    <tr style=\"text-align: right;\">\n",
       "      <th></th>\n",
       "      <th>yummy</th>\n",
       "      <th>convenient</th>\n",
       "      <th>spicy</th>\n",
       "      <th>fattening</th>\n",
       "      <th>greasy</th>\n",
       "      <th>fast</th>\n",
       "      <th>cheap</th>\n",
       "      <th>tasty</th>\n",
       "      <th>expensive</th>\n",
       "      <th>healthy</th>\n",
       "      <th>disgusting</th>\n",
       "      <th>Cluster</th>\n",
       "    </tr>\n",
       "  </thead>\n",
       "  <tbody>\n",
       "    <tr>\n",
       "      <th>0</th>\n",
       "      <td>0</td>\n",
       "      <td>1</td>\n",
       "      <td>0</td>\n",
       "      <td>1</td>\n",
       "      <td>0</td>\n",
       "      <td>1</td>\n",
       "      <td>1</td>\n",
       "      <td>0</td>\n",
       "      <td>1</td>\n",
       "      <td>0</td>\n",
       "      <td>0</td>\n",
       "      <td>A</td>\n",
       "    </tr>\n",
       "  </tbody>\n",
       "</table>\n",
       "</div>"
      ],
      "text/plain": [
       "   yummy  convenient  spicy  fattening  greasy  fast  cheap  tasty  expensive  \\\n",
       "0      0           1      0          1       0     1      1      0          1   \n",
       "\n",
       "   healthy  disgusting Cluster  \n",
       "0        0           0       A  "
      ]
     },
     "execution_count": 58,
     "metadata": {},
     "output_type": "execute_result"
    }
   ],
   "source": [
    "df_criteria.head(1)"
   ]
  },
  {
   "cell_type": "code",
   "execution_count": 59,
   "id": "17f16fee",
   "metadata": {},
   "outputs": [
    {
     "data": {
      "text/html": [
       "<div>\n",
       "<style scoped>\n",
       "    .dataframe tbody tr th:only-of-type {\n",
       "        vertical-align: middle;\n",
       "    }\n",
       "\n",
       "    .dataframe tbody tr th {\n",
       "        vertical-align: top;\n",
       "    }\n",
       "\n",
       "    .dataframe thead th {\n",
       "        text-align: right;\n",
       "    }\n",
       "</style>\n",
       "<table border=\"1\" class=\"dataframe\">\n",
       "  <thead>\n",
       "    <tr style=\"text-align: right;\">\n",
       "      <th></th>\n",
       "      <th>Like</th>\n",
       "      <th>Age</th>\n",
       "      <th>VisitFrequency</th>\n",
       "      <th>Gender</th>\n",
       "      <th>yummy</th>\n",
       "      <th>convenient</th>\n",
       "      <th>spicy</th>\n",
       "      <th>fattening</th>\n",
       "      <th>greasy</th>\n",
       "      <th>fast</th>\n",
       "      <th>cheap</th>\n",
       "      <th>tasty</th>\n",
       "      <th>expensive</th>\n",
       "      <th>healthy</th>\n",
       "      <th>disgusting</th>\n",
       "      <th>Cluster</th>\n",
       "    </tr>\n",
       "  </thead>\n",
       "  <tbody>\n",
       "    <tr>\n",
       "      <th>0</th>\n",
       "      <td>-3</td>\n",
       "      <td>61</td>\n",
       "      <td>Every three months</td>\n",
       "      <td>Female</td>\n",
       "      <td>0</td>\n",
       "      <td>1</td>\n",
       "      <td>0</td>\n",
       "      <td>1</td>\n",
       "      <td>0</td>\n",
       "      <td>1</td>\n",
       "      <td>1</td>\n",
       "      <td>0</td>\n",
       "      <td>1</td>\n",
       "      <td>0</td>\n",
       "      <td>0</td>\n",
       "      <td>A</td>\n",
       "    </tr>\n",
       "  </tbody>\n",
       "</table>\n",
       "</div>"
      ],
      "text/plain": [
       "   Like  Age      VisitFrequency  Gender  yummy  convenient  spicy  fattening  \\\n",
       "0    -3   61  Every three months  Female      0           1      0          1   \n",
       "\n",
       "   greasy  fast  cheap  tasty  expensive  healthy  disgusting Cluster  \n",
       "0       0     1      1      0          1        0           0       A  "
      ]
     },
     "execution_count": 59,
     "metadata": {},
     "output_type": "execute_result"
    }
   ],
   "source": [
    "df['Cluster']=df_criteria['Cluster']\n",
    "df.head(1)"
   ]
  },
  {
   "cell_type": "markdown",
   "id": "ed5a45ca",
   "metadata": {},
   "source": [
    "### Analysis of Ratings in the segments."
   ]
  },
  {
   "cell_type": "code",
   "execution_count": 60,
   "id": "37998f8c",
   "metadata": {},
   "outputs": [
    {
     "data": {
      "text/html": [
       "<div>\n",
       "<style scoped>\n",
       "    .dataframe tbody tr th:only-of-type {\n",
       "        vertical-align: middle;\n",
       "    }\n",
       "\n",
       "    .dataframe tbody tr th {\n",
       "        vertical-align: top;\n",
       "    }\n",
       "\n",
       "    .dataframe thead th {\n",
       "        text-align: right;\n",
       "    }\n",
       "</style>\n",
       "<table border=\"1\" class=\"dataframe\">\n",
       "  <thead>\n",
       "    <tr style=\"text-align: right;\">\n",
       "      <th>Like</th>\n",
       "      <th>-5</th>\n",
       "      <th>-4</th>\n",
       "      <th>-3</th>\n",
       "      <th>-2</th>\n",
       "      <th>-1</th>\n",
       "      <th>0</th>\n",
       "      <th>1</th>\n",
       "      <th>2</th>\n",
       "      <th>3</th>\n",
       "      <th>4</th>\n",
       "      <th>5</th>\n",
       "    </tr>\n",
       "    <tr>\n",
       "      <th>Cluster</th>\n",
       "      <th></th>\n",
       "      <th></th>\n",
       "      <th></th>\n",
       "      <th></th>\n",
       "      <th></th>\n",
       "      <th></th>\n",
       "      <th></th>\n",
       "      <th></th>\n",
       "      <th></th>\n",
       "      <th></th>\n",
       "      <th></th>\n",
       "    </tr>\n",
       "  </thead>\n",
       "  <tbody>\n",
       "    <tr>\n",
       "      <th>A</th>\n",
       "      <td>54</td>\n",
       "      <td>36</td>\n",
       "      <td>34</td>\n",
       "      <td>29</td>\n",
       "      <td>26</td>\n",
       "      <td>53</td>\n",
       "      <td>32</td>\n",
       "      <td>31</td>\n",
       "      <td>12</td>\n",
       "      <td>2</td>\n",
       "      <td>0</td>\n",
       "    </tr>\n",
       "    <tr>\n",
       "      <th>B</th>\n",
       "      <td>4</td>\n",
       "      <td>4</td>\n",
       "      <td>2</td>\n",
       "      <td>6</td>\n",
       "      <td>12</td>\n",
       "      <td>42</td>\n",
       "      <td>63</td>\n",
       "      <td>87</td>\n",
       "      <td>140</td>\n",
       "      <td>111</td>\n",
       "      <td>99</td>\n",
       "    </tr>\n",
       "    <tr>\n",
       "      <th>C</th>\n",
       "      <td>89</td>\n",
       "      <td>27</td>\n",
       "      <td>30</td>\n",
       "      <td>18</td>\n",
       "      <td>12</td>\n",
       "      <td>37</td>\n",
       "      <td>13</td>\n",
       "      <td>6</td>\n",
       "      <td>8</td>\n",
       "      <td>0</td>\n",
       "      <td>0</td>\n",
       "    </tr>\n",
       "    <tr>\n",
       "      <th>D</th>\n",
       "      <td>5</td>\n",
       "      <td>4</td>\n",
       "      <td>7</td>\n",
       "      <td>6</td>\n",
       "      <td>8</td>\n",
       "      <td>37</td>\n",
       "      <td>44</td>\n",
       "      <td>63</td>\n",
       "      <td>69</td>\n",
       "      <td>47</td>\n",
       "      <td>44</td>\n",
       "    </tr>\n",
       "  </tbody>\n",
       "</table>\n",
       "</div>"
      ],
      "text/plain": [
       "Like     -5  -4  -3  -2  -1   0   1   2    3    4   5\n",
       "Cluster                                              \n",
       "A        54  36  34  29  26  53  32  31   12    2   0\n",
       "B         4   4   2   6  12  42  63  87  140  111  99\n",
       "C        89  27  30  18  12  37  13   6    8    0   0\n",
       "D         5   4   7   6   8  37  44  63   69   47  44"
      ]
     },
     "execution_count": 60,
     "metadata": {},
     "output_type": "execute_result"
    }
   ],
   "source": [
    "crosstable=pd.crosstab(df['Like'],df['Cluster'])\n",
    "df_temp=crosstable.transpose()\n",
    "df_temp"
   ]
  },
  {
   "cell_type": "code",
   "execution_count": 61,
   "id": "ee0e1a23",
   "metadata": {},
   "outputs": [
    {
     "data": {
      "image/png": "[encoded data removed]",
      "text/plain": [
       "<Figure size 1080x432 with 2 Axes>"
      ]
     },
     "metadata": {},
     "output_type": "display_data"
    }
   ],
   "source": [
    "# Create a heatmap using Seaborn\n",
    "plt.figure(figsize=(15, 6))\n",
    "sns.heatmap(df_temp, annot=True,fmt=\"d\", cmap='YlGnBu', linewidths=0.5)\n",
    "plt.title('Customer Ratings by Segment')\n",
    "plt.xlabel('Rating')\n",
    "plt.ylabel('Segment')\n",
    "plt.show()\n"
   ]
  },
  {
   "cell_type": "markdown",
   "id": "52093ec7",
   "metadata": {},
   "source": [
    "* **Members of segment C rarely express love for us. In stark contrast, members of segment B are significantly more likely to love our brand.**\n",
    "* **Members of segment A appear to have negative to neutral feelings not as much as C but their likelihood of hating our brand is high.**\n",
    "* **Majority of Members of the segment D have the strong positive feelings towards us**"
   ]
  },
  {
   "cell_type": "markdown",
   "id": "911aae2f",
   "metadata": {},
   "source": [
    "### Gender distribution in the segments"
   ]
  },
  {
   "cell_type": "code",
   "execution_count": 62,
   "id": "52db94d1",
   "metadata": {},
   "outputs": [
    {
     "data": {
      "text/html": [
       "<div>\n",
       "<style scoped>\n",
       "    .dataframe tbody tr th:only-of-type {\n",
       "        vertical-align: middle;\n",
       "    }\n",
       "\n",
       "    .dataframe tbody tr th {\n",
       "        vertical-align: top;\n",
       "    }\n",
       "\n",
       "    .dataframe thead th {\n",
       "        text-align: right;\n",
       "    }\n",
       "</style>\n",
       "<table border=\"1\" class=\"dataframe\">\n",
       "  <thead>\n",
       "    <tr style=\"text-align: right;\">\n",
       "      <th>Cluster</th>\n",
       "      <th>A</th>\n",
       "      <th>B</th>\n",
       "      <th>C</th>\n",
       "      <th>D</th>\n",
       "    </tr>\n",
       "    <tr>\n",
       "      <th>Gender</th>\n",
       "      <th></th>\n",
       "      <th></th>\n",
       "      <th></th>\n",
       "      <th></th>\n",
       "    </tr>\n",
       "  </thead>\n",
       "  <tbody>\n",
       "    <tr>\n",
       "      <th>Female</th>\n",
       "      <td>183</td>\n",
       "      <td>343</td>\n",
       "      <td>101</td>\n",
       "      <td>161</td>\n",
       "    </tr>\n",
       "    <tr>\n",
       "      <th>Male</th>\n",
       "      <td>126</td>\n",
       "      <td>227</td>\n",
       "      <td>139</td>\n",
       "      <td>173</td>\n",
       "    </tr>\n",
       "  </tbody>\n",
       "</table>\n",
       "</div>"
      ],
      "text/plain": [
       "Cluster    A    B    C    D\n",
       "Gender                     \n",
       "Female   183  343  101  161\n",
       "Male     126  227  139  173"
      ]
     },
     "execution_count": 62,
     "metadata": {},
     "output_type": "execute_result"
    }
   ],
   "source": [
    "crosstable=pd.crosstab(df['Gender'],df['Cluster'])\n",
    "crosstable"
   ]
  },
  {
   "cell_type": "code",
   "execution_count": 63,
   "id": "916cc15d",
   "metadata": {},
   "outputs": [
    {
     "data": {
      "image/png": "[encoded data removed]",
      "text/plain": [
       "<Figure size 720x432 with 1 Axes>"
      ]
     },
     "metadata": {},
     "output_type": "display_data"
    }
   ],
   "source": [
    "sns.set(style=\"whitegrid\")\n",
    "\n",
    "# Create the bar plot\n",
    "ax = crosstable.transpose().plot(kind='bar', rot=0, figsize=(10, 6))\n",
    "\n",
    "plt.xlabel(\"Segments\", labelpad=15, fontsize=12)\n",
    "plt.title(\"Gender Distribution of Segments\", pad=20, fontsize=16)\n",
    "plt.grid(axis='y', linestyle='--', alpha=0.7)\n",
    "\n",
    "ax.spines['top'].set_visible(False)\n",
    "ax.spines['right'].set_visible(False)\n",
    "\n",
    "# Adding data labels to the bars\n",
    "for p in ax.patches:\n",
    "    ax.annotate(f'{p.get_height():d}', \n",
    "                (p.get_x() + p.get_width() / 2., p.get_height()), \n",
    "                ha='center', va='center', \n",
    "                fontsize=10, color='black', xytext=(0, 5),\n",
    "                textcoords='offset points')\n",
    "\n",
    "plt.tight_layout()\n",
    "plt.show()\n"
   ]
  },
  {
   "cell_type": "markdown",
   "id": "cbdba6da",
   "metadata": {},
   "source": [
    "* **Segment C and segment D have a similar gender distribution with higher males.** \n",
    "* **Segment B and A contains significantly more Women.**"
   ]
  },
  {
   "cell_type": "markdown",
   "id": "bd231de9",
   "metadata": {},
   "source": [
    "### Age distribution in the segments"
   ]
  },
  {
   "cell_type": "code",
   "execution_count": 64,
   "id": "b0c194c7",
   "metadata": {},
   "outputs": [
    {
     "data": {
      "text/plain": [
       "<AxesSubplot:xlabel='Cluster', ylabel='Age'>"
      ]
     },
     "execution_count": 64,
     "metadata": {},
     "output_type": "execute_result"
    },
    {
     "data": {
      "image/png": "[encoded data removed]",
      "text/plain": [
       "<Figure size 576x396 with 1 Axes>"
      ]
     },
     "metadata": {},
     "output_type": "display_data"
    }
   ],
   "source": [
    "sns.boxplot(x=\"Cluster\", y=\"Age\", data=df.sort_values('Cluster'),palette='rainbow')"
   ]
  },
  {
   "cell_type": "markdown",
   "id": "3688f21d",
   "metadata": {},
   "source": [
    "### Here , we see a important correlation between age and perception"
   ]
  },
  {
   "cell_type": "markdown",
   "id": "51460e76",
   "metadata": {},
   "source": [
    "* **Segments B and D, who have a positive perception towards our brand, are in younger age groups**\n",
    "* **Young people are more likely to like us** "
   ]
  },
  {
   "cell_type": "markdown",
   "id": "a155202f",
   "metadata": {},
   "source": [
    "## Section 6: Selecting segments to target"
   ]
  },
  {
   "cell_type": "code",
   "execution_count": 65,
   "id": "a1d9a3cf",
   "metadata": {},
   "outputs": [
    {
     "data": {
      "text/plain": [
       "array(['Every three months', 'Once a week', 'Once a month', 'Once a year',\n",
       "       'More than once a week', 'Never'], dtype=object)"
      ]
     },
     "execution_count": 65,
     "metadata": {},
     "output_type": "execute_result"
    }
   ],
   "source": [
    "df['VisitFrequency'].unique()"
   ]
  },
  {
   "cell_type": "code",
   "execution_count": 66,
   "id": "544512d8",
   "metadata": {},
   "outputs": [],
   "source": [
    "def encoder(string):\n",
    "    if(string=='Never'):\n",
    "        return 0\n",
    "    elif(string=='Once a year'):\n",
    "        return 1\n",
    "    elif(string=='Every three months'):\n",
    "        return 2\n",
    "    elif(string=='Once a month'):\n",
    "        return 3\n",
    "    elif(string=='Once a week'):\n",
    "        return 4\n",
    "    elif(string=='More than once a week'):\n",
    "        return 5\n",
    "    else:\n",
    "        return 'Something missed'\n",
    "    "
   ]
  },
  {
   "cell_type": "code",
   "execution_count": 67,
   "id": "e4cf5ebe",
   "metadata": {},
   "outputs": [],
   "source": [
    "df['VisitFrequency']=df['VisitFrequency'].apply(lambda x:encoder(x))"
   ]
  },
  {
   "cell_type": "code",
   "execution_count": 68,
   "id": "255a7bf8",
   "metadata": {},
   "outputs": [
    {
     "data": {
      "text/plain": [
       "array([2, 4, 3, 1, 5, 0], dtype=int64)"
      ]
     },
     "execution_count": 68,
     "metadata": {},
     "output_type": "execute_result"
    }
   ],
   "source": [
    "df['VisitFrequency'].unique()"
   ]
  },
  {
   "cell_type": "code",
   "execution_count": 69,
   "id": "fa4340ac",
   "metadata": {},
   "outputs": [],
   "source": [
    "df_visit=pd.DataFrame(df.groupby('Cluster')['VisitFrequency'].mean())"
   ]
  },
  {
   "cell_type": "code",
   "execution_count": 70,
   "id": "c55f6ee8",
   "metadata": {},
   "outputs": [],
   "source": [
    "df_Like=pd.DataFrame(df.groupby('Cluster')['Like'].mean())"
   ]
  },
  {
   "cell_type": "code",
   "execution_count": 71,
   "id": "22fcf635",
   "metadata": {},
   "outputs": [
    {
     "data": {
      "text/html": [
       "<div>\n",
       "<style scoped>\n",
       "    .dataframe tbody tr th:only-of-type {\n",
       "        vertical-align: middle;\n",
       "    }\n",
       "\n",
       "    .dataframe tbody tr th {\n",
       "        vertical-align: top;\n",
       "    }\n",
       "\n",
       "    .dataframe thead th {\n",
       "        text-align: right;\n",
       "    }\n",
       "</style>\n",
       "<table border=\"1\" class=\"dataframe\">\n",
       "  <thead>\n",
       "    <tr style=\"text-align: right;\">\n",
       "      <th></th>\n",
       "      <th>VisitFrequency</th>\n",
       "    </tr>\n",
       "    <tr>\n",
       "      <th>Cluster</th>\n",
       "      <th></th>\n",
       "    </tr>\n",
       "  </thead>\n",
       "  <tbody>\n",
       "    <tr>\n",
       "      <th>A</th>\n",
       "      <td>1.605178</td>\n",
       "    </tr>\n",
       "    <tr>\n",
       "      <th>B</th>\n",
       "      <td>2.950877</td>\n",
       "    </tr>\n",
       "    <tr>\n",
       "      <th>C</th>\n",
       "      <td>1.404167</td>\n",
       "    </tr>\n",
       "    <tr>\n",
       "      <th>D</th>\n",
       "      <td>2.838323</td>\n",
       "    </tr>\n",
       "  </tbody>\n",
       "</table>\n",
       "</div>"
      ],
      "text/plain": [
       "         VisitFrequency\n",
       "Cluster                \n",
       "A              1.605178\n",
       "B              2.950877\n",
       "C              1.404167\n",
       "D              2.838323"
      ]
     },
     "execution_count": 71,
     "metadata": {},
     "output_type": "execute_result"
    }
   ],
   "source": [
    "df_visit"
   ]
  },
  {
   "cell_type": "code",
   "execution_count": 72,
   "id": "789a781e",
   "metadata": {},
   "outputs": [
    {
     "data": {
      "text/plain": [
       "[<matplotlib.lines.Line2D at 0x13f19143880>]"
      ]
     },
     "execution_count": 72,
     "metadata": {},
     "output_type": "execute_result"
    },
    {
     "data": {
      "image/png": "[encoded data removed]",
      "text/plain": [
       "<Figure size 576x396 with 1 Axes>"
      ]
     },
     "metadata": {},
     "output_type": "display_data"
    }
   ],
   "source": [
    "plt.plot(df_visit)"
   ]
  },
  {
   "cell_type": "markdown",
   "id": "016015cf",
   "metadata": {},
   "source": [
    "* **The visiting frequency is quite high for the B and D segment and low for the A and B segments**"
   ]
  },
  {
   "cell_type": "code",
   "execution_count": 75,
   "id": "0ead1f0a",
   "metadata": {},
   "outputs": [
    {
     "data": {
      "image/png": "[encoded data removed]",
      "text/plain": [
       "<Figure size 576x396 with 1 Axes>"
      ]
     },
     "metadata": {},
     "output_type": "display_data"
    }
   ],
   "source": [
    "plt.title('Segment Evaluation')\n",
    "sns.scatterplot(y=df_Like['Like'],x=df_visit['VisitFrequency'],hue=df_Like.index)\n",
    "plt.show()"
   ]
  },
  {
   "cell_type": "markdown",
   "id": "d1a19f19",
   "metadata": {},
   "source": [
    "* **Market segments B and D are located in the attractive quadrant of the segment evaluation plot. Members of these two segments like us and visit us frequently. These segments need to be retained, and their needs must be satisfied in the future.**\n",
    "\n",
    "* **Market segment C is located in the least attractive position. Members of this segment hate us, and rarely eat at our stores, making them unattractive as a potential market segment.**\n",
    "\n",
    "* **Market segment A does not currently perceive us in a positive way. But in terms of likes and visitation frequency,some members of market segment A present as a viable target segment. Marketing action could attempt to address the negative perceptions of this segment, and re-inforce positive perceptions. As a result, we may be able to broaden our customer base.**"
   ]
  },
  {
   "cell_type": "markdown",
   "id": "faa68364",
   "metadata": {},
   "source": [
    "### Section 7: Customizing the marketing mix."
   ]
  },
  {
   "cell_type": "markdown",
   "id": "9a449a45",
   "metadata": {},
   "source": [
    "* **We can design marketing mix based on the seleted market segment.**\n",
    "\n",
    "* **If, for example, we decide to focus on segment D (relatively young customers who like us, think the food is yummy and tasty, but perceive it as pretty expensive, we can offer a Budget line to cater specifically to the price expectations of this segment.**\n",
    "* **The aim is that Members of segment D become loyal customers who, as they start earning more money, will not care about the price any more.**\n",
    "* **Communication channels which are heavily used by members of this segment, can be used to communicate the availability of the new budget products**"
   ]
  },
  {
   "cell_type": "code",
   "execution_count": null,
   "id": "74e26c9e",
   "metadata": {},
   "outputs": [],
   "source": []
  }
 ],
 "metadata": {
  "kernelspec": {
   "display_name": "Python 3 (ipykernel)",
   "language": "python",
   "name": "python3"
  },
  "language_info": {
   "codemirror_mode": {
    "name": "ipython",
    "version": 3
   },
   "file_extension": ".py",
   "mimetype": "text/x-python",
   "name": "python",
   "nbconvert_exporter": "python",
   "pygments_lexer": "ipython3",
   "version": "3.9.7"
  }
 },
 "nbformat": 4,
 "nbformat_minor": 5
}
